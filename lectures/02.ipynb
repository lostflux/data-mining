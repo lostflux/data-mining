{
 "cells": [
  {
   "cell_type": "markdown",
   "metadata": {},
   "source": [
    "# Lecture 2\n",
    "\n",
    "## Class Demo\n",
    "\n",
    "> Random stuff.\n",
    "\n",
    "$$\n",
    "\\zeta(s) = \\sum_{n=1}^\\infty \\frac{1}{n^s} = \\frac{1}{\\Gamma(s)} \\int_0^\\infty \\frac{x^{s-1}}{e^x - 1} \\, dx \\\\ \\\\ \\\\\n",
    "\\mathbf{where} \\quad\n",
    "\\Gamma(s) = \\int_0^\\infty x^{s-1} e^{-x} \\, dx\n",
    "$$"
   ]
  },
  {
   "cell_type": "code",
   "execution_count": 1,
   "metadata": {},
   "outputs": [
    {
     "name": "stdout",
     "output_type": "stream",
     "text": [
      "...\n",
      "...\n",
      "...\n",
      "...\n",
      "[15.41, 15.41, 15.41, 15.41]\n"
     ]
    }
   ],
   "source": [
    "\n",
    "def F(x: float):\n",
    "  print(\"...\")\n",
    "  return x**2 + 7\n",
    "\n",
    "stuff = [F, F, F, F]\n",
    "\n",
    "print(list(map(lambda f: f(2.9), stuff)))"
   ]
  },
  {
   "cell_type": "code",
   "execution_count": 2,
   "metadata": {},
   "outputs": [],
   "source": [
    "# from ipywidgets import interact, interactive, fixed, interact_manual\n",
    "# import ipywidgets as widgets\n",
    "\n",
    "# def f(x):\n",
    "#   print(f\"{x = }\")\n",
    "#   return x**2\n",
    "\n",
    "# interact(f, x=10);"
   ]
  },
  {
   "cell_type": "code",
   "execution_count": 3,
   "metadata": {},
   "outputs": [
    {
     "data": {
      "text/plain": [
       "set"
      ]
     },
     "execution_count": 3,
     "metadata": {},
     "output_type": "execute_result"
    }
   ],
   "source": [
    "my_set = {1, 2, 3, 4, 5, 6, 7, 8, 9, 10}\n",
    "type(my_set)"
   ]
  },
  {
   "cell_type": "markdown",
   "metadata": {},
   "source": [
    "## Assignment\n",
    "\n",
    "You're given a _large_ collection of data and you want to implement a simple `binary search` algorithm.\n",
    "\n",
    "Decide what data structure you want to use to store the data. Then implement the algorithm.\n",
    "Options:\n",
    "- `list`\n",
    "- `set`\n",
    "- `dictionary`\n",
    "- `tuple`"
   ]
  },
  {
   "cell_type": "code",
   "execution_count": 6,
   "metadata": {},
   "outputs": [
    {
     "data": {
      "text/plain": [
       "-1"
      ]
     },
     "execution_count": 6,
     "metadata": {},
     "output_type": "execute_result"
    }
   ],
   "source": [
    "from typing import List\n",
    "\n",
    "def binary_search(nums: List[int], target: int):\n",
    "  n = len(nums)\n",
    "  l, r = 0, n - 1\n",
    "  while l <= r:\n",
    "    m = (l + r) // 2\n",
    "    if nums[m] == target:\n",
    "      return m\n",
    "    elif nums[m] < target:\n",
    "      l = m+1\n",
    "    else:\n",
    "      r = m-1\n",
    "  return -1\n",
    "\n",
    "values = [1, 2, 3, 4, 5, 6, 7, 8, 9, 10]\n",
    "\n",
    "binary_search(values, 90)"
   ]
  },
  {
   "cell_type": "code",
   "execution_count": null,
   "metadata": {},
   "outputs": [],
   "source": [
    "\n",
    "\n",
    "# O(n)\n",
    "def do_stuff(arr: List[int]):\n",
    "  res = 0\n",
    "  for num in arr:\n",
    "    res += num\n",
    "\n",
    "  return res"
   ]
  }
 ],
 "metadata": {
  "kernelspec": {
   "display_name": "Python 3",
   "language": "python",
   "name": "python3"
  },
  "language_info": {
   "codemirror_mode": {
    "name": "ipython",
    "version": 3
   },
   "file_extension": ".py",
   "mimetype": "text/x-python",
   "name": "python",
   "nbconvert_exporter": "python",
   "pygments_lexer": "ipython3",
   "version": "3.11.5"
  },
  "orig_nbformat": 4
 },
 "nbformat": 4,
 "nbformat_minor": 2
}
