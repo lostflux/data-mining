{
 "cells": [
  {
   "cell_type": "markdown",
   "metadata": {},
   "source": [
    "# Assignment 1. Data Acquisition and Pandas Basics\n",
    "\n",
    "## Introduction\n",
    "\n",
    "In this assignment, we ask you to write python code to solve several problems. You will be provided with some bare code skeleton that you may use, but don't have to. Please populate this Jupyter notebook with your code and embeded results (outputs, figures, etc) and submit it on Canvas.\n",
    "\n",
    "\n",
    "### Data\n",
    "\n",
    "You will use three datasets.\n",
    "1. NOAA Hanover Climate Data: https://www.ncdc.noaa.gov/cdo-web/\n",
    "2. S&P 500, Dow Jones Industrial Average, Nasdaq Composite\n",
    "3. Lending Club Loan Data from Kaggle (https://www.kaggle.com/wendykan/lending-club-loan-data)\n",
    "\n",
    "### Useful libraries\n",
    "\n",
    "- pandas\n",
    "- matplotlib\n",
    "- numpy\n",
    "- [pandas-datareader](https://pandas-datareader.readthedocs.io/en/latest/)\n",
    "- requests\n",
    "- beautifulsoup\n",
    "- feedparser (https://pypi.org/project/feedparser/)\n",
    "- re\n"
   ]
  },
  {
   "cell_type": "markdown",
   "metadata": {},
   "source": [
    "## Problem 1: Hanover Climate Data Basic Analysis\n",
    "\n",
    "You need to implement functions to load the provided Hanover Climate Data CSV file in python, print out data summaries, and plot the data. "
   ]
  },
  {
   "cell_type": "markdown",
   "metadata": {},
   "source": [
    "### Q1: Load the CSV file (5 points)\n",
    "\n",
    "The data file for this problem is NOAA_Hanover.csv. write a function to load the file to pandas dataframe and return the dataframe.\n",
    "\n",
    "Note:\n",
    "- The data type of the \"DATE\" column should be a Timestamp.\n",
    "- Rows should be sorted by \"DATE\"."
   ]
  },
  {
   "cell_type": "code",
   "execution_count": null,
   "metadata": {},
   "outputs": [],
   "source": [
    "import pandas as pd\n",
    "from matplotlib import pyplot as plt\n",
    "%matplotlib inline"
   ]
  },
  {
   "cell_type": "code",
   "execution_count": null,
   "metadata": {},
   "outputs": [],
   "source": [
    "def load_hanover_climate_data(filename='./data/NOAA_Hanover.csv'):\n",
    "    # write your code here\n",
    "    pass"
   ]
  },
  {
   "cell_type": "markdown",
   "metadata": {},
   "source": [
    "### Q2: Show the data (15 points)\n",
    "\n",
    "Write python code in the following cell to:\n",
    "- Print out all column names.\n",
    "- Show the first 10 rows of the dataframe.\n",
    "- Show the date range of the data.\n",
    "- Print out the percentage of missing values for columns \"TMIN\", \"TMAX\", and \"PRCP\"?\n",
    "- Find min, median, max, mean, and std of \"TMIN\", \"TMAX\", and \"PRCP\"."
   ]
  },
  {
   "cell_type": "code",
   "execution_count": null,
   "metadata": {},
   "outputs": [],
   "source": [
    "hanover_data = load_hanover_climate_data(filename='./data/NOAA_Hanover.csv')\n",
    "# write your code here\n"
   ]
  },
  {
   "cell_type": "markdown",
   "metadata": {},
   "source": [
    "### Q3: Visualize the data (15 points)\n",
    "\n",
    "Write a function to show a line plot of a given year's temperature and preciptation. The function should take three parameters: dataframe, year, and column name you are going to plot. Show months on the x-axis.\n",
    "\n",
    "Hint: use pandas Timestamps to represent date.\n",
    "\n",
    "- Pick a year, plot TMIN, TMAX in one plot, and PRCP in another plot.\n",
    "- Make a plot to show the difference between TMAX and TMIN (i.e., TMAX-TMIN). Hint: you can modify the dataframe."
   ]
  },
  {
   "cell_type": "code",
   "execution_count": null,
   "metadata": {},
   "outputs": [],
   "source": [
    "from pandas import Timestamp\n",
    "import numpy as np\n",
    "from datetime import datetime\n",
    "\n",
    "def plot_weather_data(weather_data, year, column, y_label=''):\n",
    "    # write your code here\n",
    "    \n",
    "    pass\n",
    "\n",
    "# write your code here\n"
   ]
  },
  {
   "cell_type": "markdown",
   "metadata": {},
   "source": [
    "## Problem 2: DJIA, S&P 500, and NASDAQ Correlation Analysis\n",
    "\n",
    "Before you start working on this problem, install the pandas-datareader python library.\n",
    "\n",
    "You will implement code to download DJIA, S&P 500, and NASDAQ from FRED (Federal Reserve Economic Data) and visualize the data from 2016-03-27 to 2019-03-27."
   ]
  },
  {
   "cell_type": "markdown",
   "metadata": {},
   "source": [
    "### Q1: Download the data (10 points)\n",
    "\n",
    "Read pandas-datareader document at https://pydata.github.io/pandas-datareader/stable/remote_data.html#remote-data-fred to figure out how to use the API to download the data. Write your code to download the data."
   ]
  },
  {
   "cell_type": "code",
   "execution_count": null,
   "metadata": {},
   "outputs": [],
   "source": [
    "# write your code here to load DJIA, SP500, NASDAQCOM from fred, show the top 10 head\n"
   ]
  },
  {
   "cell_type": "markdown",
   "metadata": {},
   "source": [
    "### Q2: Plot the data (5 points)\n",
    "\n",
    "Make three line plots to show how Dow Jones Industrial Average, S&P 500, and NASDAQ change over time."
   ]
  },
  {
   "cell_type": "code",
   "execution_count": null,
   "metadata": {},
   "outputs": [],
   "source": [
    "# write your code here\n",
    "# plot 3 figures\n"
   ]
  },
  {
   "cell_type": "markdown",
   "metadata": {},
   "source": [
    "### Q3: Correlation (10 points)\n",
    "\n",
    "The three composite indices look similar. Compute correlations to quantify how similar they are. \n",
    "\n",
    "**Hint**: Try to skip `NaN` values in the columns."
   ]
  },
  {
   "cell_type": "code",
   "execution_count": null,
   "metadata": {},
   "outputs": [],
   "source": [
    "# your code starts here\n"
   ]
  },
  {
   "cell_type": "markdown",
   "metadata": {},
   "source": [
    "## Problem 3: Lending Club Loan Aggregation Analysis\n",
    "\n",
    "The dataset for this problem is a large and high-dimentional dataset. We simplified the dataset to be used for this assignment.\n",
    "\n",
    "### Q1: Unzip and Load Data (5 points)\n",
    "\n",
    "The dataset for this assignment is in ./data/loan.csv.zip. You need to unzip the file first. Though not required, we recommend you use the python \"zipfile\" library to unzip it. Make sure the unzipped file lives in the `\"./data/\"` folder. Load the csv file into a dataframe. "
   ]
  },
  {
   "cell_type": "code",
   "execution_count": null,
   "metadata": {},
   "outputs": [],
   "source": [
    "import os\n",
    "import pandas as pd\n",
    "import zipfile\n",
    "\n",
    "# write your code here\n"
   ]
  },
  {
   "cell_type": "markdown",
   "metadata": {},
   "source": [
    "### Q2: Indexing (10 points)\n",
    "\n",
    "There are about 70+ columns and about 870,000 rows in the dataset. However, not all of them are interesting to us. Also, note that some values may be missing or have further errors. We need select some of rows and columns as a subset for further mining.\n",
    "\n",
    "First, extract the following columns: `'loan_amnt'`, `'term'`, `'int_rate'`, `'grade'`, `'issue_d'`, `'addr_state'`, `'loan_status'`. Show the top 10 head of this subdataset. \n",
    "\n",
    "Next, examin the `'loan_status'` column. There are several possible distinct values this column can take. Count the number of records for each status. Print out your result."
   ]
  },
  {
   "cell_type": "code",
   "execution_count": null,
   "metadata": {},
   "outputs": [],
   "source": [
    "# write your code here\n"
   ]
  },
  {
   "cell_type": "markdown",
   "metadata": {},
   "source": [
    "### Q3: Data Aggregation with Group Operations (10 points)\n",
    "\n",
    "Your next step involves grouping data. Here, we would like to know the amount of loan by month. In other words, we'd like to see something like:\n",
    "\n",
    "|   issue_m  |    loan_amnt    |\n",
    "| ---------- | -----------|\n",
    "|     2007-06   |   91850.0  |\n",
    "|     2007-07   |  348325.0  |\n",
    "\n",
    "\n",
    "\n",
    "Group the records according to month. Sum all the loans in each month and **print out top ten lines of the result**.\n",
    "\n",
    "**Hint**: use `groupby`"
   ]
  },
  {
   "cell_type": "code",
   "execution_count": null,
   "metadata": {},
   "outputs": [],
   "source": [
    "# write your code here\n"
   ]
  },
  {
   "cell_type": "markdown",
   "metadata": {},
   "source": [
    "## Problem 4: News Articles\n",
    "\n",
    "### Q1 (20 points)\n",
    "\n",
    "Use the feedparser library (you can download it here: https://pypi.org/project/feedparser/) to extract the text from the top 3 stories from the CNN and Fox news RSS links provided below. Note that you should only be capturing the text, no html content should be captured. Print the first 10 words of each story. Save these 6 stories as you will be using them later on in this assignment.\n",
    "<br>\n",
    "CNN: http://rss.cnn.com/rss/cnn_latest.rss\n",
    "<br>\n",
    "Fox: http://feeds.foxnews.com/foxnews/latest"
   ]
  },
  {
   "cell_type": "code",
   "execution_count": null,
   "metadata": {},
   "outputs": [],
   "source": [
    "from bs4 import BeautifulSoup\n",
    "import feedparser\n",
    "def get_articles(rss_feed):\n",
    "    # write your code here\n",
    "    return cnn_articles,fox_articles\n",
    "# write your code here"
   ]
  },
  {
   "cell_type": "markdown",
   "metadata": {},
   "source": [
    "### Q2 (20 points)\n",
    "Take the 6 news articles from Q1 and do the following to each one:\n",
    "(1) Tokenize (i.e., create a list of words)\n",
    "(2) Clean the words by lowercasing, removing words smaller than 3 characters and removing non-alphanumeric charactercters\n",
    "(3) Save each these 6 cleaned articles as you will be using them later in the assignment.\n",
    "(4) Write a function to extract the top K most used words in a given tokenized article (i.e., represented as a list of words)\n"
   ]
  },
  {
   "cell_type": "code",
   "execution_count": null,
   "metadata": {},
   "outputs": [],
   "source": [
    "def clean_article(article):\n",
    "    # write your code here\n",
    "    return cleaned_article\n",
    "\n",
    "def extract_top_K_words(article,top_K):\n",
    "    # write your code here\n",
    "    return top_K_words\n"
   ]
  },
  {
   "cell_type": "markdown",
   "metadata": {},
   "source": [
    "### Q3 (5 points)\n",
    "\n",
    "Create a dataframe where the rows correspond to the six articles (you can use the first 5 words of the articles as their name) and the columns correspond to the top 20 words extracted in Q2. The cells should correspond to the count of each of these words in the article. Print the dataframe."
   ]
  },
  {
   "cell_type": "code",
   "execution_count": 1,
   "metadata": {},
   "outputs": [],
   "source": [
    "# write your code here"
   ]
  },
  {
   "cell_type": "markdown",
   "metadata": {},
   "source": [
    "### Q4 (10 points)\n",
    "\n",
    "Each row in the dataframe generated in Q3 is basically a vector representation of that article. Find the similarity between the articles by measuring the distance between the vectors representing each article. Please use the cosine similarity as your similarity metric. You can use the NLTk implementation here: https://scikit-learn.org/stable/modules/generated/sklearn.metrics.pairwise.cosine_similarity.html . We will go over different metrics later in the class, for now just know that cosine similairty is one way to measure distance/similarity between vectors (another way being eucilidean distance which everyone should be familiar with).\n",
    "\n",
    "Create a 6x6 dataframe where the rows and columns correspond to the articles and the cells show the similarity between each article.\n",
    "\n",
    "HINT:\n",
    "HERE IS HOW YOU USE THE COSINE_SIMILARITY FUNCTION:\n",
    "<br>\n",
    "x=[1,2,3]\n",
    "<br>\n",
    "y=[2,1,1]\n",
    "<br>\n",
    "cosine_similarity([x],[y])\n",
    "\n"
   ]
  },
  {
   "cell_type": "code",
   "execution_count": null,
   "metadata": {},
   "outputs": [],
   "source": [
    "from sklearn.metrics.pairwise import cosine_similarity\n",
    "# write your code here"
   ]
  },
  {
   "cell_type": "markdown",
   "metadata": {},
   "source": [
    "## Problem 5: Web Scraping\n",
    "\n",
    "### Q1 (30 points)\n",
    "\n",
    "Use your web scraping knowledge to extract the first page comments from the following forum page: \"https://www.vgr.com/forum/topic/8467-racing-wheels/\"\n",
    "You should extract the text, username, time of the posts, and the points of the users.\n",
    "<br>\n",
    "Create a dataframe with one column corresponding to the \"text\", and two columns corresponding to the usernam and points. The time of the posts should be converted to a pandas timestamp and used as the index of the datafame."
   ]
  },
  {
   "cell_type": "code",
   "execution_count": null,
   "metadata": {},
   "outputs": [],
   "source": [
    "url=\"https://www.vgr.com/forum/topic/8467-racing-wheels/\"\n",
    "\n",
    "#write your code here"
   ]
  },
  {
   "cell_type": "markdown",
   "metadata": {},
   "source": [
    "### Q2 (10 points)\n",
    "Resample the dataframe above to create 2 new frames as follows:\n",
    "(1) Resampled by day\n",
    "(2) Resampled by month\n",
    "\n"
   ]
  },
  {
   "cell_type": "code",
   "execution_count": null,
   "metadata": {},
   "outputs": [],
   "source": [
    "#write your code here"
   ]
  },
  {
   "cell_type": "markdown",
   "metadata": {},
   "source": [
    "### Q3 (20 points)\n",
    "Use regular expressions to extract:\n",
    "(1) All words in the text that are fully capitalized.\n",
    "(2) All words in the text that start with a capital letter, followed by lowercase letters.\n",
    "(3) All words in the text that start with a capital letter, followed by lowercase letters; excluding the first words of sentences (you can assume a word is a first-word if it is preceeded by either a '.')\n",
    "\n",
    "Create a new dataframe from your original dataframe for this data with three new columns capturing the counts of words in (1), (2) and (3)."
   ]
  },
  {
   "cell_type": "code",
   "execution_count": null,
   "metadata": {},
   "outputs": [],
   "source": [
    "import re\n",
    "# write your code here\n"
   ]
  }
 ],
 "metadata": {
  "kernelspec": {
   "display_name": "Python 3 (ipykernel)",
   "language": "python",
   "name": "python3"
  },
  "language_info": {
   "codemirror_mode": {
    "name": "ipython",
    "version": 3
   },
   "file_extension": ".py",
   "mimetype": "text/x-python",
   "name": "python",
   "nbconvert_exporter": "python",
   "pygments_lexer": "ipython3",
   "version": "3.11.4"
  }
 },
 "nbformat": 4,
 "nbformat_minor": 2
}
