{
 "cells": [
  {
   "cell_type": "markdown",
   "metadata": {},
   "source": [
    "# Text Modeling\n",
    "\n",
    "## Amittai Siavava, Data Mining (Fall 2023)\n",
    "\n",
    "In this assignment, we ask you to create a classifier for detecting spam. Please populate this Jupyter notebook with your code and embedded results (outputs, figures, etc) and submit it on Canvas as a zip file.  <B\n",
    "\n",
    "Useful libraries for this assignment: <br>\n",
    "(1) sklearn\n",
    "(2) nltk\n",
    "(3) gensim"
   ]
  },
  {
   "cell_type": "code",
   "execution_count": 13,
   "metadata": {},
   "outputs": [],
   "source": [
    "# install libraries if nonexistent.\n",
    "\n",
    "# %pip install sklearn\n",
    "# %pip install nltk\n",
    "# %pip install gensim\n",
    "# %pip install pandas\n",
    "# %pip install matplotlib\n",
    "# %pip install seaborn\n",
    "# %pip install wordcloud\n",
    "# %pip install IPython\n",
    "\n",
    "import nltk\n",
    "import gensim\n",
    "import pandas as pd\n",
    "import matplotlib as plt\n",
    "import seaborn as sns\n",
    "import wordcloud\n",
    "\n",
    "import sklearn\n",
    "import sklearn.ensemble\n",
    "import sklearn.linear_model\n",
    "\n",
    "\"\"\"\n",
    "  I use these to display markdown from python code.\n",
    "  \n",
    "  If you get an import error, please run `pip install IPython`\n",
    "  (or uncomment lines 3-10 above)\n",
    "\"\"\"\n",
    "\n",
    "from IPython.display import display, Markdown\n"
   ]
  },
  {
   "cell_type": "markdown",
   "metadata": {},
   "source": [
    "## Q1 (76 points)\n",
    "You have been provided a spam dataset (SPAM.csv). Each line in the dataset corresponds to one message and has a label of either \"ham\" or \"spam\". In this assignment, you are experimenting with different features and models to create the best spam detector possible.  \n",
    "\n",
    "Load the data into a dataframe. Divide the data into a random train/test set with the ratio 85/15. Finally, use sklearn to run the following experiments."
   ]
  },
  {
   "cell_type": "code",
   "execution_count": 14,
   "metadata": {},
   "outputs": [
    {
     "data": {
      "text/html": [
       "<div>\n",
       "<style scoped>\n",
       "    .dataframe tbody tr th:only-of-type {\n",
       "        vertical-align: middle;\n",
       "    }\n",
       "\n",
       "    .dataframe tbody tr th {\n",
       "        vertical-align: top;\n",
       "    }\n",
       "\n",
       "    .dataframe thead th {\n",
       "        text-align: right;\n",
       "    }\n",
       "</style>\n",
       "<table border=\"1\" class=\"dataframe\">\n",
       "  <thead>\n",
       "    <tr style=\"text-align: right;\">\n",
       "      <th></th>\n",
       "      <th>Category</th>\n",
       "      <th>Message</th>\n",
       "    </tr>\n",
       "  </thead>\n",
       "  <tbody>\n",
       "    <tr>\n",
       "      <th>0</th>\n",
       "      <td>ham</td>\n",
       "      <td>Go until jurong point, crazy.. Available only ...</td>\n",
       "    </tr>\n",
       "    <tr>\n",
       "      <th>1</th>\n",
       "      <td>ham</td>\n",
       "      <td>Ok lar... Joking wif u oni...</td>\n",
       "    </tr>\n",
       "    <tr>\n",
       "      <th>2</th>\n",
       "      <td>spam</td>\n",
       "      <td>Free entry in 2 a wkly comp to win FA Cup fina...</td>\n",
       "    </tr>\n",
       "    <tr>\n",
       "      <th>3</th>\n",
       "      <td>ham</td>\n",
       "      <td>U dun say so early hor... U c already then say...</td>\n",
       "    </tr>\n",
       "    <tr>\n",
       "      <th>4</th>\n",
       "      <td>ham</td>\n",
       "      <td>Nah I don't think he goes to usf, he lives aro...</td>\n",
       "    </tr>\n",
       "  </tbody>\n",
       "</table>\n",
       "</div>"
      ],
      "text/plain": [
       "  Category                                            Message\n",
       "0      ham  Go until jurong point, crazy.. Available only ...\n",
       "1      ham                      Ok lar... Joking wif u oni...\n",
       "2     spam  Free entry in 2 a wkly comp to win FA Cup fina...\n",
       "3      ham  U dun say so early hor... U c already then say...\n",
       "4      ham  Nah I don't think he goes to usf, he lives aro..."
      ]
     },
     "metadata": {},
     "output_type": "display_data"
    },
    {
     "data": {
      "text/markdown": [
       "\n",
       "  #### Dataset Stats\n",
       "  - columns:    ['Category', 'Message']\n",
       "  - Total size: 5572\n",
       "  - Train size: 4736\n",
       "  - Test size:  836\n",
       "  "
      ],
      "text/plain": [
       "<IPython.core.display.Markdown object>"
      ]
     },
     "metadata": {},
     "output_type": "display_data"
    }
   ],
   "source": [
    "# load csv file\n",
    "df = pd.read_csv('SPAM.csv')\n",
    "display(df.head(5))\n",
    "\n",
    "# split into train (85%) and test (15%) sets\n",
    "train, test = sklearn.model_selection.train_test_split(df, test_size=0.15, random_state=42)\n",
    "\n",
    "display(Markdown(\n",
    "  f\"\"\"\n",
    "  #### Dataset Stats\n",
    "  - columns:    {list(df.columns)}\n",
    "  - Total size: {len(df)}\n",
    "  - Train size: {len(train)}\n",
    "  - Test size:  {len(test)}\n",
    "  \"\"\"\n",
    "))\n"
   ]
  },
  {
   "cell_type": "markdown",
   "metadata": {},
   "source": [
    "### (A)[10 points] Train and evaluate the following models:\n"
   ]
  },
  {
   "cell_type": "markdown",
   "metadata": {},
   "source": [
    "#### (A.1) Logistic Regression (LR)"
   ]
  },
  {
   "cell_type": "code",
   "execution_count": 30,
   "metadata": {},
   "outputs": [
    {
     "data": {
      "text/markdown": [
       "\n",
       "  #### Model Stats\n",
       "  - LOGISTIC REGRESSION ACCURACY: 0.9736842105263158\n",
       "  - LOGISTIC REGRESSION F1 SCORE: 0.9723721254148885\n",
       "  - CONFUSION MATRIX:\n",
       "  "
      ],
      "text/plain": [
       "<IPython.core.display.Markdown object>"
      ]
     },
     "metadata": {},
     "output_type": "display_data"
    },
    {
     "data": {
      "text/plain": [
       "<Axes: >"
      ]
     },
     "metadata": {},
     "output_type": "display_data"
    },
    {
     "data": {
      "image/png": "[encoded data removed]",
      "text/plain": [
       "<Figure size 640x480 with 2 Axes>"
      ]
     },
     "metadata": {},
     "output_type": "display_data"
    }
   ],
   "source": [
    "# initialize logistic regression model\n",
    "model = sklearn.linear_model.LogisticRegression()\n",
    "\n",
    "# initialize vectorizer\n",
    "vectorizer = sklearn.feature_extraction.text.TfidfVectorizer()\n",
    "\n",
    "# fit vectorizer to training data\n",
    "vectorizer.fit(train['Message'])\n",
    "\n",
    "# transform training and test data into vectors\n",
    "train_vectors = vectorizer.transform(train['Message'])\n",
    "test_vectors = vectorizer.transform(test['Message'])\n",
    "\n",
    "# fit model to training data\n",
    "model.fit(train_vectors, train['Category'])\n",
    "\n",
    "# predict on test data\n",
    "predictions_lr = model.predict(test_vectors)\n",
    "\n",
    "# calculate accuracy\n",
    "accuracy_lr = sklearn.metrics.accuracy_score(test['Category'], predictions_lr)\n",
    "f1_lr = sklearn.metrics.f1_score(test['Category'], predictions_lr, average='weighted')\n",
    "confusion_matrix_lr = pd.DataFrame(\n",
    "    sklearn.metrics.confusion_matrix(test['Category'], predictions_lr),\n",
    "    index=['ham', 'spam'],\n",
    "    columns=['ham', 'spam']\n",
    "  )\n",
    "\n",
    "\n",
    "display(Markdown(\n",
    "  f\"\"\"\n",
    "  #### Model Stats\n",
    "  - LOGISTIC REGRESSION ACCURACY: {accuracy_lr}\n",
    "  - LOGISTIC REGRESSION F1 SCORE: {f1_lr}\n",
    "  - CONFUSION MATRIX:\n",
    "  \"\"\"\n",
    "))\n",
    "\n",
    "display(sns.heatmap(confusion_matrix_lr, annot=True, fmt='d', cmap='Blues'))\n"
   ]
  },
  {
   "cell_type": "markdown",
   "metadata": {},
   "source": [
    "#### (A.2) Random Forest (RF)"
   ]
  },
  {
   "cell_type": "code",
   "execution_count": 35,
   "metadata": {},
   "outputs": [
    {
     "data": {
      "text/markdown": [
       "\n",
       "  #### Model Stats\n",
       "  - RANDOM FOREST ACCURACY: 0.9820574162679426\n",
       "  - RANDOM FOREST F1 SCORE: 0.9814725455888178\n",
       "  - CONFUSION MATRIX:\n",
       "  "
      ],
      "text/plain": [
       "<IPython.core.display.Markdown object>"
      ]
     },
     "metadata": {},
     "output_type": "display_data"
    },
    {
     "data": {
      "text/plain": [
       "<Axes: >"
      ]
     },
     "metadata": {},
     "output_type": "display_data"
    },
    {
     "data": {
      "image/png": "[encoded data removed]",
      "text/plain": [
       "<Figure size 640x480 with 2 Axes>"
      ]
     },
     "metadata": {},
     "output_type": "display_data"
    }
   ],
   "source": [
    "# initialzie random forest model\n",
    "model = sklearn.ensemble.RandomForestClassifier()\n",
    "\n",
    "# initialize vectorizer\n",
    "vectorizer = sklearn.feature_extraction.text.TfidfVectorizer()\n",
    "\n",
    "# fit vectorizer to training data\n",
    "vectorizer.fit(train['Message'])\n",
    "\n",
    "# transform training and test data into vectors\n",
    "train_vectors = vectorizer.transform(train['Message'])\n",
    "test_vectors = vectorizer.transform(test['Message'])\n",
    "\n",
    "# fit model to training data\n",
    "model.fit(train_vectors, train['Category'])\n",
    "\n",
    "# predict on test data\n",
    "predictions_rf = model.predict(test_vectors)\n",
    "\n",
    "# calculate accuracy\n",
    "accuracy_rf = sklearn.metrics.accuracy_score(test['Category'], predictions_rf)\n",
    "f1_rf = sklearn.metrics.f1_score(test['Category'], predictions_rf, average='weighted')\n",
    "confusion_matrix_rf = pd.DataFrame(\n",
    "    sklearn.metrics.confusion_matrix(test['Category'], predictions_rf),\n",
    "    index=['ham', 'spam'],\n",
    "    columns=['ham', 'spam']\n",
    "  )\n",
    "\n",
    "\n",
    "display(Markdown(\n",
    "  f\"\"\"\n",
    "  #### Model Stats\n",
    "  - RANDOM FOREST ACCURACY: {accuracy_rf}\n",
    "  - RANDOM FOREST F1 SCORE: {f1_rf}\n",
    "  - CONFUSION MATRIX:\n",
    "  \"\"\"\n",
    "))\n",
    "\n",
    "display(sns.heatmap(confusion_matrix_rf, annot=True, fmt='d', cmap='Blues'))\n"
   ]
  },
  {
   "cell_type": "markdown",
   "metadata": {},
   "source": [
    "\n",
    "\n",
    "\n",
    "**(B)[24 points]** and the combination of all following preprocessing (total of 8 combinations):\n",
    "<br>\n",
    "(1) with and without lowercasing <br> (2) with and without stopword removal (3) with and without lemmatization <br>\n",
    "\n",
    "**(C)[24 points]** and the following lexical features (total of 6 combinations): \n",
    "<br>\n",
    "(1) unigrams <br>(2) unigrams and bigrams <br>(3) unigrams, bigrams and trigrams <br>\n",
    "(4) tfidf unigrams <br>(5) tfidf  unigrams and bigrams <br>(6) tfidf unigrams, bigrams and trigrams  <br>\n",
    "\n",
    "So that's 2 model types x 8 possible prepreocessing x 6 possible features = 96 models <br>\n",
    "\n",
    "**(D)[10 points]** Create a dataframe where each row is one of the models and 15 columns. The first 9 columns should be boolean and capture if the model used the following: <br>\n",
    "\n",
    "(1) lowercased: 1 / 0 <br>\n",
    "(2) stopwords_removed: 1 / 0 <br>\n",
    "(3) lemmatized: 1 / 0 <br>\n",
    "(4) unigrams : 1 / 0 <br>\n",
    "(5) bigrams :  1 / 0 <br>\n",
    "(6) trigrams :  1 / 0 <br>\n",
    "(7) tfidf unigrams :  1 / 0 <br>\n",
    "(8) tfidf bigrams :  1 / 0 <br>\n",
    "(9) tfidf trigrams :  1 / 0 <br>\n",
    "\n",
    "The last 6 columns should show the default f1 (default parameters), weighted f1, and accuracy of the models on the **train** and **test** sets: <br>\n",
    "\n",
    "(10) f1_train <br>\n",
    "(11) weighted_f1_train <br>\n",
    "(12) accuracy_train <br>\n",
    "(13) f1_test <br>\n",
    "(14) weighted_f1_test <br>\n",
    "(15) accuracy_test <br>\n",
    "\n",
    "**(E)[4 points]** <br>\n",
    "Which model has the best weighted f1 according to the train set? <br>\n",
    "Which model has the best weighted f1 according to the test set? <br>\n",
    "\n",
    "**(F)[4 points]** <br>\n",
    "Show the confusion matrix for the best-performing model on the test set. Explain what each element of the matrix means. <br>\n",
    "\n",
    "\n",
    "HINT 1: You should convert the \"spam\" category to 1 and the \"ham\" category to 0, sklearn models can only work with numbers. <br>\n",
    "\n",
    "HINT 2: You should make the whole thing systematically using good coding convetion instead of copy and pasting the models! I have created a partial skeleton template for Q1 below to guide you with this. You do NOT have to use this. This is just for your benefit. I have not included templates for the other questions.\n"
   ]
  },
  {
   "cell_type": "code",
   "execution_count": 17,
   "metadata": {},
   "outputs": [],
   "source": [
    "def preprocess(tokenized_text,lowercase=False, remove_stopwords=False,lemmatize=False):\n",
    "    pass\n",
    "    return cleaned_tokenized_text\n"
   ]
  },
  {
   "cell_type": "code",
   "execution_count": 18,
   "metadata": {},
   "outputs": [],
   "source": [
    "def extract_features(cleaned_tokenized_text,tfidf=False,ngram_range=(1,1)):\n",
    "    pass\n",
    "    return features\n"
   ]
  },
  {
   "cell_type": "code",
   "execution_count": 19,
   "metadata": {},
   "outputs": [],
   "source": [
    "def train_model(model_type,train_features, train_labels):\n",
    "    pass\n",
    "    return trained_model\n"
   ]
  },
  {
   "cell_type": "code",
   "execution_count": 20,
   "metadata": {},
   "outputs": [],
   "source": [
    "def evaluate_model(trained_model,metric,eval_features,eval_labels):\n",
    "    pass\n",
    "    return model_eval\n"
   ]
  },
  {
   "cell_type": "code",
   "execution_count": 21,
   "metadata": {},
   "outputs": [],
   "source": [
    "#Feel free to make as many cells as needed. Also feel free to delete the cells above.\n"
   ]
  },
  {
   "cell_type": "markdown",
   "metadata": {},
   "source": [
    "### Q2 (56 points)\n",
    "**(A)[40 points]** Repeat the experiment for the best-performing combination of model type, preprocessing, and lexical features above, but this time limit the analysis to all the combinations of the parts-of-speeches below (total of 8 combinations):<br>\n",
    "\n",
    "(1) Adjectives <br>\n",
    "(2) Nouns  <br>\n",
    "(3) Verbs  <br>\n",
    "\n",
    "What this means is that after tokenization and before preprocessing, you remove all words that do not have the part of speech you are looking at. E.g., for the combination Adjectives & Nouns, all words that are not a noun or adjective should be removed. <br>\n",
    "\n",
    "So that's 8 new models. <br>\n",
    "\n",
    "**(B)[10 points]** Create a new dataframe where each row is one of the models. The dataframe should have 3 boolean columns capturing which parts-of-speech were used: <br>\n",
    "\n",
    "(1) adjectives : 1 / 0 <br>\n",
    "(2) nouns : 1 / 0 <br>\n",
    "(3) verbs : 1 / 0 <br>\n",
    " \n",
    "and 3 columns showing the default f1 (default parameters), weighted f1, and accuracy of the models on the **test** set only: <br>\n",
    "\n",
    "(4) f1_test <br>\n",
    "(5) weighted_f1_test <br>\n",
    "(6) accuracy_test <br>\n",
    "\n",
    "**(C)[6 points]** <br>\n",
    "Which model has the best weighted f1 according to the test set? <br>\n",
    "Show the confusion matrix for the best-performing model on the test set. <br>"
   ]
  },
  {
   "cell_type": "code",
   "execution_count": 22,
   "metadata": {},
   "outputs": [],
   "source": [
    "#Your code here. Feel free to make as many cells as needed\n"
   ]
  },
  {
   "cell_type": "markdown",
   "metadata": {},
   "source": [
    "### Q3 (68 points)\n",
    "\n",
    "**(A)[32 points]** Repeat the experiment for the best-performing model type from Q1 (i.e., LR or RF) using the following features (no preprocessing is required): <br>\n",
    "(1) Word2Vec features from GoogleNews (limit vocabulary to 40000 words) <br>\n",
    "(2) Features from a new Word2Vec model trained on the **train** set of your dataset. Use the following hyperparameters: window=5,vector_size=100 ,min_count=5 <br>\n",
    "\n",
    "You can average the semantic embeddings for the words in a document to create a single semantic vector for the document. You can ignore words that are not present in your Word2Vec model. <br>\n",
    "\n",
    "**(B)[10 points]** Use weighted f1 on the test set to pick the best semantic features from the two options above and combine them with the best-performing features from Q2 to train a new model. <br>\n",
    "\n",
    "**(C)[20 points]** Finally, create a new dataframe where each row is one of the following models: <br>\n",
    "(1) Best-performing model using lexical features only (Q1).  <br>\n",
    "(2) Best-performing model using lexical features on different parts-of-speech (Q2).  <br>\n",
    "(3) Best-performing model from using semantic features only (Q3-A).  <br>\n",
    "(4) The final model from Q3-B that combines the best semantic and lexical features.  <br>\n",
    "\n",
    "<br>\n",
    "The dataframe should have boolean columns capturing which (if any) preprocessing techniques were used: <br>\n",
    "<br>\n",
    "\n",
    "(1) lowercased: 1 / 0 <br>\n",
    "(2) stopwords_removed: 1 / 0 <br>\n",
    "(3) lemmatized: 1 / 0 <br>\n",
    "\n",
    "<br>\n",
    "which (if any) parts-of-speech were used: <br>\n",
    "<br>\n",
    "\n",
    "(4) adjectives : 1 / 0 <br>\n",
    "(5) nouns : 1 / 0 <br>\n",
    "(6) verbs : 1 / 0 <br>\n",
    "(7) all: 1 / 0  (this is for the best-performing Q1 model that uses all parts-of-speech)<br>\n",
    "\n",
    "\n",
    "<br>\n",
    "which (if any) lexical features were used: <br>\n",
    "<br>\n",
    "\n",
    "(8) unigrams : 1 / 0 <br>\n",
    "(9) bigrams :  1 / 0 <br>\n",
    "(10) trigrams :  1 / 0 <br>\n",
    "(11) tfidf unigrams :  1 / 0 <br>\n",
    "(12) tfidf bigrams :  1 / 0 <br>\n",
    "(13) tfidf trigrams :  1 / 0 <br>\n",
    "\n",
    "\n",
    "<br>\n",
    "which (if any) semantic features were used: <br>\n",
    "<br>\n",
    "\n",
    "(14) w2v_GoogleNews : 1 / 0 <br>\n",
    "(15) w2v_Span=m : 1 / 0 <br>\n",
    "\n",
    " \n",
    "and 3 columns showing the default f1 (default parameters), weighted f1, and accuracy of the four models on the **test** set only: <br>\n",
    "\n",
    "(16) f1_test <br>\n",
    "(17) weighted_f1_test <br>\n",
    "(18) accuracy_test <br>\n",
    "\n",
    "**(D)[6 points]**\n",
    "Which model has the best weighted f1 according to the test set? <br> \n",
    "Show the confusion matrix for the best-performing model on the test set. <br>"
   ]
  },
  {
   "cell_type": "markdown",
   "metadata": {},
   "source": [
    "### BONUS (5 to 50 points)\n",
    "\n",
    "Find a combination of preprocessing, features, and models that outperforms the best model above (using weighted f1 as the metric). Your bonus points is based on how well you rank in the class. We will use the curve below to distribute the bonus points. I.e., the top 5% of the class will receive 50 bonus points and the bottom 5% will receive 5 bonus points."
   ]
  },
  {
   "cell_type": "code",
   "execution_count": 23,
   "metadata": {},
   "outputs": [
    {
     "data": {
      "image/png": "[encoded data removed]",
      "text/plain": [
       "<Figure size 640x480 with 1 Axes>"
      ]
     },
     "metadata": {},
     "output_type": "display_data"
    }
   ],
   "source": [
    "#This is just to show you the bonus curve. This is NOT part of the question.\n",
    "import numpy as np\n",
    "import sys\n",
    "import matplotlib.pyplot as plt\n",
    "\n",
    "a = 50\n",
    "b = 0.025\n",
    "c = 1 \n",
    "x = np.linspace(5, 95, 18, endpoint = True)\n",
    "y = (a * np.exp(-b*x)) + c\n",
    "\n",
    "#print(list(zip(x,y)))\n",
    "plt.plot(x, y, '-r')\n",
    "\n",
    "axes = plt.gca()\n",
    "axes.set_xlim([x.min(), x.max()])\n",
    "axes.set_ylim([y.min(), y.max()])\n",
    "\n",
    "plt.xlabel('Percentile')\n",
    "plt.ylabel('Bonus')\n",
    "\n",
    "plt.show()\n",
    "\n",
    "while False: #set this to True to see your bonus points based on your hypothetical percentile\n",
    "    try:\n",
    "        x_in=float(input('percentile:'))\n",
    "        bonus_out=np.round((a * np.exp(-b*x_in)) + c)\n",
    "        print('At {:0.0f} percentile, you will get {:0.1f} bonus points'.format(x_in,bonus_out))\n",
    "    except:\n",
    "        print(\"Exiting\")\n",
    "        sys.exit(1)\n"
   ]
  },
  {
   "cell_type": "code",
   "execution_count": 24,
   "metadata": {},
   "outputs": [],
   "source": [
    "#Your code here. Feel free to make as many cells as needed\n"
   ]
  }
 ],
 "metadata": {
  "kernelspec": {
   "display_name": "Python 3 (ipykernel)",
   "language": "python",
   "name": "python3"
  },
  "language_info": {
   "codemirror_mode": {
    "name": "ipython",
    "version": 3
   },
   "file_extension": ".py",
   "mimetype": "text/x-python",
   "name": "python",
   "nbconvert_exporter": "python",
   "pygments_lexer": "ipython3",
   "version": "3.11.5"
  }
 },
 "nbformat": 4,
 "nbformat_minor": 2
}
