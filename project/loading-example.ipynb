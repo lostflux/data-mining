{
 "cells": [
  {
   "cell_type": "markdown",
   "metadata": {},
   "source": [
    "## Example Loading the Dataset"
   ]
  },
  {
   "cell_type": "code",
   "execution_count": 1,
   "metadata": {},
   "outputs": [
    {
     "data": {
      "text/html": [
       "<div>\n",
       "<style scoped>\n",
       "    .dataframe tbody tr th:only-of-type {\n",
       "        vertical-align: middle;\n",
       "    }\n",
       "\n",
       "    .dataframe tbody tr th {\n",
       "        vertical-align: top;\n",
       "    }\n",
       "\n",
       "    .dataframe thead th {\n",
       "        text-align: right;\n",
       "    }\n",
       "</style>\n",
       "<table border=\"1\" class=\"dataframe\">\n",
       "  <thead>\n",
       "    <tr style=\"text-align: right;\">\n",
       "      <th></th>\n",
       "      <th>id</th>\n",
       "      <th>year</th>\n",
       "      <th>title</th>\n",
       "      <th>url</th>\n",
       "      <th>text</th>\n",
       "    </tr>\n",
       "  </thead>\n",
       "  <tbody>\n",
       "    <tr>\n",
       "      <th>0</th>\n",
       "      <td>0</td>\n",
       "      <td>2023</td>\n",
       "      <td>\"MIT Technology Review\"</td>\n",
       "      <td>\"https://www.technologyreview.com\"</td>\n",
       "      <td>\"Featured Topics Newsletters Events Podcasts F...</td>\n",
       "    </tr>\n",
       "    <tr>\n",
       "      <th>1</th>\n",
       "      <td>1</td>\n",
       "      <td>2023</td>\n",
       "      <td>\"WIRED - The Latest in Technology, Science, Cu...</td>\n",
       "      <td>\"https://www.wired.com\"</td>\n",
       "      <td>\"Open Navigation Menu To revisit this article,...</td>\n",
       "    </tr>\n",
       "    <tr>\n",
       "      <th>2</th>\n",
       "      <td>2</td>\n",
       "      <td>2019</td>\n",
       "      <td>\"The Verge\"</td>\n",
       "      <td>\"https://www.theverge.com\"</td>\n",
       "      <td>\"The Verge homepage The Verge The Verge logo.\\...</td>\n",
       "    </tr>\n",
       "    <tr>\n",
       "      <th>3</th>\n",
       "      <td>3</td>\n",
       "      <td>2023</td>\n",
       "      <td>\"TechCrunch | Startup and Technology News\"</td>\n",
       "      <td>\"https://www.techcrunch.com\"</td>\n",
       "      <td>\"WeWork reportedly on the verge of filing for ...</td>\n",
       "    </tr>\n",
       "    <tr>\n",
       "      <th>4</th>\n",
       "      <td>4</td>\n",
       "      <td>2022</td>\n",
       "      <td>\"A new vision of artificial intelligence for t...</td>\n",
       "      <td>\"https://www.technologyreview.com/2022/04/22/1...</td>\n",
       "      <td>\"Featured Topics Newsletters Events Podcasts A...</td>\n",
       "    </tr>\n",
       "  </tbody>\n",
       "</table>\n",
       "</div>"
      ],
      "text/plain": [
       "   id  year                                              title  \\\n",
       "0   0  2023                            \"MIT Technology Review\"   \n",
       "1   1  2023  \"WIRED - The Latest in Technology, Science, Cu...   \n",
       "2   2  2019                                        \"The Verge\"   \n",
       "3   3  2023         \"TechCrunch | Startup and Technology News\"   \n",
       "4   4  2022  \"A new vision of artificial intelligence for t...   \n",
       "\n",
       "                                                 url  \\\n",
       "0                 \"https://www.technologyreview.com\"   \n",
       "1                            \"https://www.wired.com\"   \n",
       "2                         \"https://www.theverge.com\"   \n",
       "3                       \"https://www.techcrunch.com\"   \n",
       "4  \"https://www.technologyreview.com/2022/04/22/1...   \n",
       "\n",
       "                                                text  \n",
       "0  \"Featured Topics Newsletters Events Podcasts F...  \n",
       "1  \"Open Navigation Menu To revisit this article,...  \n",
       "2  \"The Verge homepage The Verge The Verge logo.\\...  \n",
       "3  \"WeWork reportedly on the verge of filing for ...  \n",
       "4  \"Featured Topics Newsletters Events Podcasts A...  "
      ]
     },
     "metadata": {},
     "output_type": "display_data"
    },
    {
     "data": {
      "text/markdown": [
       "### Year: 2023"
      ],
      "text/plain": [
       "<IPython.core.display.Markdown object>"
      ]
     },
     "metadata": {},
     "output_type": "display_data"
    },
    {
     "data": {
      "text/markdown": [
       "Number of articles: 521"
      ],
      "text/plain": [
       "<IPython.core.display.Markdown object>"
      ]
     },
     "metadata": {},
     "output_type": "display_data"
    },
    {
     "data": {
      "text/html": [
       "<div>\n",
       "<style scoped>\n",
       "    .dataframe tbody tr th:only-of-type {\n",
       "        vertical-align: middle;\n",
       "    }\n",
       "\n",
       "    .dataframe tbody tr th {\n",
       "        vertical-align: top;\n",
       "    }\n",
       "\n",
       "    .dataframe thead th {\n",
       "        text-align: right;\n",
       "    }\n",
       "</style>\n",
       "<table border=\"1\" class=\"dataframe\">\n",
       "  <thead>\n",
       "    <tr style=\"text-align: right;\">\n",
       "      <th></th>\n",
       "      <th>id</th>\n",
       "      <th>year</th>\n",
       "      <th>title</th>\n",
       "      <th>url</th>\n",
       "      <th>text</th>\n",
       "    </tr>\n",
       "  </thead>\n",
       "  <tbody>\n",
       "    <tr>\n",
       "      <th>0</th>\n",
       "      <td>0</td>\n",
       "      <td>2023</td>\n",
       "      <td>\"MIT Technology Review\"</td>\n",
       "      <td>\"https://www.technologyreview.com\"</td>\n",
       "      <td>\"Featured Topics Newsletters Events Podcasts F...</td>\n",
       "    </tr>\n",
       "    <tr>\n",
       "      <th>1</th>\n",
       "      <td>1</td>\n",
       "      <td>2023</td>\n",
       "      <td>\"WIRED - The Latest in Technology, Science, Cu...</td>\n",
       "      <td>\"https://www.wired.com\"</td>\n",
       "      <td>\"Open Navigation Menu To revisit this article,...</td>\n",
       "    </tr>\n",
       "    <tr>\n",
       "      <th>3</th>\n",
       "      <td>3</td>\n",
       "      <td>2023</td>\n",
       "      <td>\"TechCrunch | Startup and Technology News\"</td>\n",
       "      <td>\"https://www.techcrunch.com\"</td>\n",
       "      <td>\"WeWork reportedly on the verge of filing for ...</td>\n",
       "    </tr>\n",
       "  </tbody>\n",
       "</table>\n",
       "</div>"
      ],
      "text/plain": [
       "   id  year                                              title  \\\n",
       "0   0  2023                            \"MIT Technology Review\"   \n",
       "1   1  2023  \"WIRED - The Latest in Technology, Science, Cu...   \n",
       "3   3  2023         \"TechCrunch | Startup and Technology News\"   \n",
       "\n",
       "                                  url  \\\n",
       "0  \"https://www.technologyreview.com\"   \n",
       "1             \"https://www.wired.com\"   \n",
       "3        \"https://www.techcrunch.com\"   \n",
       "\n",
       "                                                text  \n",
       "0  \"Featured Topics Newsletters Events Podcasts F...  \n",
       "1  \"Open Navigation Menu To revisit this article,...  \n",
       "3  \"WeWork reportedly on the verge of filing for ...  "
      ]
     },
     "metadata": {},
     "output_type": "display_data"
    },
    {
     "data": {
      "text/markdown": [
       "---"
      ],
      "text/plain": [
       "<IPython.core.display.Markdown object>"
      ]
     },
     "metadata": {},
     "output_type": "display_data"
    },
    {
     "data": {
      "text/markdown": [
       "### Year: 2022"
      ],
      "text/plain": [
       "<IPython.core.display.Markdown object>"
      ]
     },
     "metadata": {},
     "output_type": "display_data"
    },
    {
     "data": {
      "text/markdown": [
       "Number of articles: 608"
      ],
      "text/plain": [
       "<IPython.core.display.Markdown object>"
      ]
     },
     "metadata": {},
     "output_type": "display_data"
    },
    {
     "data": {
      "text/html": [
       "<div>\n",
       "<style scoped>\n",
       "    .dataframe tbody tr th:only-of-type {\n",
       "        vertical-align: middle;\n",
       "    }\n",
       "\n",
       "    .dataframe tbody tr th {\n",
       "        vertical-align: top;\n",
       "    }\n",
       "\n",
       "    .dataframe thead th {\n",
       "        text-align: right;\n",
       "    }\n",
       "</style>\n",
       "<table border=\"1\" class=\"dataframe\">\n",
       "  <thead>\n",
       "    <tr style=\"text-align: right;\">\n",
       "      <th></th>\n",
       "      <th>id</th>\n",
       "      <th>year</th>\n",
       "      <th>title</th>\n",
       "      <th>url</th>\n",
       "      <th>text</th>\n",
       "    </tr>\n",
       "  </thead>\n",
       "  <tbody>\n",
       "    <tr>\n",
       "      <th>4</th>\n",
       "      <td>4</td>\n",
       "      <td>2022</td>\n",
       "      <td>\"A new vision of artificial intelligence for t...</td>\n",
       "      <td>\"https://www.technologyreview.com/2022/04/22/1...</td>\n",
       "      <td>\"Featured Topics Newsletters Events Podcasts A...</td>\n",
       "    </tr>\n",
       "    <tr>\n",
       "      <th>5</th>\n",
       "      <td>5</td>\n",
       "      <td>2022</td>\n",
       "      <td>\"The scientist who co-created CRISPR isn’t rul...</td>\n",
       "      <td>\"https://www.technologyreview.com/2022/04/26/1...</td>\n",
       "      <td>\"Featured Topics Newsletters Events Podcasts F...</td>\n",
       "    </tr>\n",
       "    <tr>\n",
       "      <th>6</th>\n",
       "      <td>6</td>\n",
       "      <td>2022</td>\n",
       "      <td>\"These fast, cheap tests could help us coexist...</td>\n",
       "      <td>\"https://www.technologyreview.com/2022/04/27/1...</td>\n",
       "      <td>\"Featured Topics Newsletters Events Podcasts F...</td>\n",
       "    </tr>\n",
       "  </tbody>\n",
       "</table>\n",
       "</div>"
      ],
      "text/plain": [
       "   id  year                                              title  \\\n",
       "4   4  2022  \"A new vision of artificial intelligence for t...   \n",
       "5   5  2022  \"The scientist who co-created CRISPR isn’t rul...   \n",
       "6   6  2022  \"These fast, cheap tests could help us coexist...   \n",
       "\n",
       "                                                 url  \\\n",
       "4  \"https://www.technologyreview.com/2022/04/22/1...   \n",
       "5  \"https://www.technologyreview.com/2022/04/26/1...   \n",
       "6  \"https://www.technologyreview.com/2022/04/27/1...   \n",
       "\n",
       "                                                text  \n",
       "4  \"Featured Topics Newsletters Events Podcasts A...  \n",
       "5  \"Featured Topics Newsletters Events Podcasts F...  \n",
       "6  \"Featured Topics Newsletters Events Podcasts F...  "
      ]
     },
     "metadata": {},
     "output_type": "display_data"
    },
    {
     "data": {
      "text/markdown": [
       "---"
      ],
      "text/plain": [
       "<IPython.core.display.Markdown object>"
      ]
     },
     "metadata": {},
     "output_type": "display_data"
    },
    {
     "data": {
      "text/markdown": [
       "### Year: 2021"
      ],
      "text/plain": [
       "<IPython.core.display.Markdown object>"
      ]
     },
     "metadata": {},
     "output_type": "display_data"
    },
    {
     "data": {
      "text/markdown": [
       "Number of articles: 445"
      ],
      "text/plain": [
       "<IPython.core.display.Markdown object>"
      ]
     },
     "metadata": {},
     "output_type": "display_data"
    },
    {
     "data": {
      "text/html": [
       "<div>\n",
       "<style scoped>\n",
       "    .dataframe tbody tr th:only-of-type {\n",
       "        vertical-align: middle;\n",
       "    }\n",
       "\n",
       "    .dataframe tbody tr th {\n",
       "        vertical-align: top;\n",
       "    }\n",
       "\n",
       "    .dataframe thead th {\n",
       "        text-align: right;\n",
       "    }\n",
       "</style>\n",
       "<table border=\"1\" class=\"dataframe\">\n",
       "  <thead>\n",
       "    <tr style=\"text-align: right;\">\n",
       "      <th></th>\n",
       "      <th>id</th>\n",
       "      <th>year</th>\n",
       "      <th>title</th>\n",
       "      <th>url</th>\n",
       "      <th>text</th>\n",
       "    </tr>\n",
       "  </thead>\n",
       "  <tbody>\n",
       "    <tr>\n",
       "      <th>42</th>\n",
       "      <td>44</td>\n",
       "      <td>2021</td>\n",
       "      <td>\"He got Facebook hooked on AI. Now he can't fi...</td>\n",
       "      <td>\"https://www.technologyreview.com/2021/03/11/1...</td>\n",
       "      <td>\"Featured Topics Newsletters Events Podcasts H...</td>\n",
       "    </tr>\n",
       "    <tr>\n",
       "      <th>51</th>\n",
       "      <td>54</td>\n",
       "      <td>2021</td>\n",
       "      <td>\"The race to understand the thrilling, dangero...</td>\n",
       "      <td>\"https://www.technologyreview.com/2021/05/20/1...</td>\n",
       "      <td>\"Featured Topics Newsletters Events Podcasts F...</td>\n",
       "    </tr>\n",
       "    <tr>\n",
       "      <th>53</th>\n",
       "      <td>56</td>\n",
       "      <td>2021</td>\n",
       "      <td>\"Wearable materials with embedded synthetic bi...</td>\n",
       "      <td>\"https://www.nature.com/articles/s41587-021-00...</td>\n",
       "      <td>\"Thank you for visiting nature.com. You are us...</td>\n",
       "    </tr>\n",
       "  </tbody>\n",
       "</table>\n",
       "</div>"
      ],
      "text/plain": [
       "    id  year                                              title  \\\n",
       "42  44  2021  \"He got Facebook hooked on AI. Now he can't fi...   \n",
       "51  54  2021  \"The race to understand the thrilling, dangero...   \n",
       "53  56  2021  \"Wearable materials with embedded synthetic bi...   \n",
       "\n",
       "                                                  url  \\\n",
       "42  \"https://www.technologyreview.com/2021/03/11/1...   \n",
       "51  \"https://www.technologyreview.com/2021/05/20/1...   \n",
       "53  \"https://www.nature.com/articles/s41587-021-00...   \n",
       "\n",
       "                                                 text  \n",
       "42  \"Featured Topics Newsletters Events Podcasts H...  \n",
       "51  \"Featured Topics Newsletters Events Podcasts F...  \n",
       "53  \"Thank you for visiting nature.com. You are us...  "
      ]
     },
     "metadata": {},
     "output_type": "display_data"
    },
    {
     "data": {
      "text/markdown": [
       "---"
      ],
      "text/plain": [
       "<IPython.core.display.Markdown object>"
      ]
     },
     "metadata": {},
     "output_type": "display_data"
    },
    {
     "data": {
      "text/markdown": [
       "### Year: 2020"
      ],
      "text/plain": [
       "<IPython.core.display.Markdown object>"
      ]
     },
     "metadata": {},
     "output_type": "display_data"
    },
    {
     "data": {
      "text/markdown": [
       "Number of articles: 297"
      ],
      "text/plain": [
       "<IPython.core.display.Markdown object>"
      ]
     },
     "metadata": {},
     "output_type": "display_data"
    },
    {
     "data": {
      "text/html": [
       "<div>\n",
       "<style scoped>\n",
       "    .dataframe tbody tr th:only-of-type {\n",
       "        vertical-align: middle;\n",
       "    }\n",
       "\n",
       "    .dataframe tbody tr th {\n",
       "        vertical-align: top;\n",
       "    }\n",
       "\n",
       "    .dataframe thead th {\n",
       "        text-align: right;\n",
       "    }\n",
       "</style>\n",
       "<table border=\"1\" class=\"dataframe\">\n",
       "  <thead>\n",
       "    <tr style=\"text-align: right;\">\n",
       "      <th></th>\n",
       "      <th>id</th>\n",
       "      <th>year</th>\n",
       "      <th>title</th>\n",
       "      <th>url</th>\n",
       "      <th>text</th>\n",
       "    </tr>\n",
       "  </thead>\n",
       "  <tbody>\n",
       "    <tr>\n",
       "      <th>20</th>\n",
       "      <td>21</td>\n",
       "      <td>2020</td>\n",
       "      <td>\"Privacy Policy - Singularity\"</td>\n",
       "      <td>\"https://su.org/privacy-policy\"</td>\n",
       "      <td>\"Executive Program Custom Programs Resources I...</td>\n",
       "    </tr>\n",
       "    <tr>\n",
       "      <th>38</th>\n",
       "      <td>40</td>\n",
       "      <td>2020</td>\n",
       "      <td>\"Algorithmic Colonization of Africa – SCRIPTed\"</td>\n",
       "      <td>\"https://script-ed.org/article/algorithmic-col...</td>\n",
       "      <td>\"A Journal of Law, Technology &amp; Society https:...</td>\n",
       "    </tr>\n",
       "    <tr>\n",
       "      <th>39</th>\n",
       "      <td>41</td>\n",
       "      <td>2020</td>\n",
       "      <td>\"The messy, secretive reality behind OpenAI’s ...</td>\n",
       "      <td>\"https://www.technologyreview.com/2020/02/17/8...</td>\n",
       "      <td>\"Featured Topics Newsletters Events Podcasts F...</td>\n",
       "    </tr>\n",
       "  </tbody>\n",
       "</table>\n",
       "</div>"
      ],
      "text/plain": [
       "    id  year                                              title  \\\n",
       "20  21  2020                     \"Privacy Policy - Singularity\"   \n",
       "38  40  2020    \"Algorithmic Colonization of Africa – SCRIPTed\"   \n",
       "39  41  2020  \"The messy, secretive reality behind OpenAI’s ...   \n",
       "\n",
       "                                                  url  \\\n",
       "20                    \"https://su.org/privacy-policy\"   \n",
       "38  \"https://script-ed.org/article/algorithmic-col...   \n",
       "39  \"https://www.technologyreview.com/2020/02/17/8...   \n",
       "\n",
       "                                                 text  \n",
       "20  \"Executive Program Custom Programs Resources I...  \n",
       "38  \"A Journal of Law, Technology & Society https:...  \n",
       "39  \"Featured Topics Newsletters Events Podcasts F...  "
      ]
     },
     "metadata": {},
     "output_type": "display_data"
    },
    {
     "data": {
      "text/markdown": [
       "---"
      ],
      "text/plain": [
       "<IPython.core.display.Markdown object>"
      ]
     },
     "metadata": {},
     "output_type": "display_data"
    },
    {
     "data": {
      "text/markdown": [
       "### Year: 2019"
      ],
      "text/plain": [
       "<IPython.core.display.Markdown object>"
      ]
     },
     "metadata": {},
     "output_type": "display_data"
    },
    {
     "data": {
      "text/markdown": [
       "Number of articles: 168"
      ],
      "text/plain": [
       "<IPython.core.display.Markdown object>"
      ]
     },
     "metadata": {},
     "output_type": "display_data"
    },
    {
     "data": {
      "text/html": [
       "<div>\n",
       "<style scoped>\n",
       "    .dataframe tbody tr th:only-of-type {\n",
       "        vertical-align: middle;\n",
       "    }\n",
       "\n",
       "    .dataframe tbody tr th {\n",
       "        vertical-align: top;\n",
       "    }\n",
       "\n",
       "    .dataframe thead th {\n",
       "        text-align: right;\n",
       "    }\n",
       "</style>\n",
       "<table border=\"1\" class=\"dataframe\">\n",
       "  <thead>\n",
       "    <tr style=\"text-align: right;\">\n",
       "      <th></th>\n",
       "      <th>id</th>\n",
       "      <th>year</th>\n",
       "      <th>title</th>\n",
       "      <th>url</th>\n",
       "      <th>text</th>\n",
       "    </tr>\n",
       "  </thead>\n",
       "  <tbody>\n",
       "    <tr>\n",
       "      <th>2</th>\n",
       "      <td>2</td>\n",
       "      <td>2019</td>\n",
       "      <td>\"The Verge\"</td>\n",
       "      <td>\"https://www.theverge.com\"</td>\n",
       "      <td>\"The Verge homepage The Verge The Verge logo.\\...</td>\n",
       "    </tr>\n",
       "    <tr>\n",
       "      <th>8</th>\n",
       "      <td>8</td>\n",
       "      <td>2019</td>\n",
       "      <td>\"About - Google DeepMind\"</td>\n",
       "      <td>\"https://www.deepmind.com/about\"</td>\n",
       "      <td>\"DeepMind Search Search Close DeepMind About O...</td>\n",
       "    </tr>\n",
       "    <tr>\n",
       "      <th>71</th>\n",
       "      <td>76</td>\n",
       "      <td>2019</td>\n",
       "      <td>\"AlphaStar: Mastering the real-time strategy g...</td>\n",
       "      <td>\"https://deepmind.com/blog/article/alphastar-m...</td>\n",
       "      <td>\"DeepMind Search Search Close DeepMind About O...</td>\n",
       "    </tr>\n",
       "  </tbody>\n",
       "</table>\n",
       "</div>"
      ],
      "text/plain": [
       "    id  year                                              title  \\\n",
       "2    2  2019                                        \"The Verge\"   \n",
       "8    8  2019                          \"About - Google DeepMind\"   \n",
       "71  76  2019  \"AlphaStar: Mastering the real-time strategy g...   \n",
       "\n",
       "                                                  url  \\\n",
       "2                          \"https://www.theverge.com\"   \n",
       "8                    \"https://www.deepmind.com/about\"   \n",
       "71  \"https://deepmind.com/blog/article/alphastar-m...   \n",
       "\n",
       "                                                 text  \n",
       "2   \"The Verge homepage The Verge The Verge logo.\\...  \n",
       "8   \"DeepMind Search Search Close DeepMind About O...  \n",
       "71  \"DeepMind Search Search Close DeepMind About O...  "
      ]
     },
     "metadata": {},
     "output_type": "display_data"
    },
    {
     "data": {
      "text/markdown": [
       "---"
      ],
      "text/plain": [
       "<IPython.core.display.Markdown object>"
      ]
     },
     "metadata": {},
     "output_type": "display_data"
    },
    {
     "data": {
      "text/markdown": [
       "### Year: 2018"
      ],
      "text/plain": [
       "<IPython.core.display.Markdown object>"
      ]
     },
     "metadata": {},
     "output_type": "display_data"
    },
    {
     "data": {
      "text/markdown": [
       "Number of articles: 155"
      ],
      "text/plain": [
       "<IPython.core.display.Markdown object>"
      ]
     },
     "metadata": {},
     "output_type": "display_data"
    },
    {
     "data": {
      "text/html": [
       "<div>\n",
       "<style scoped>\n",
       "    .dataframe tbody tr th:only-of-type {\n",
       "        vertical-align: middle;\n",
       "    }\n",
       "\n",
       "    .dataframe tbody tr th {\n",
       "        vertical-align: top;\n",
       "    }\n",
       "\n",
       "    .dataframe thead th {\n",
       "        text-align: right;\n",
       "    }\n",
       "</style>\n",
       "<table border=\"1\" class=\"dataframe\">\n",
       "  <thead>\n",
       "    <tr style=\"text-align: right;\">\n",
       "      <th></th>\n",
       "      <th>id</th>\n",
       "      <th>year</th>\n",
       "      <th>title</th>\n",
       "      <th>url</th>\n",
       "      <th>text</th>\n",
       "    </tr>\n",
       "  </thead>\n",
       "  <tbody>\n",
       "    <tr>\n",
       "      <th>68</th>\n",
       "      <td>72</td>\n",
       "      <td>2018</td>\n",
       "      <td>\"Scalable agent architecture for distributed t...</td>\n",
       "      <td>\"https://deepmind.com/blog/article/impala-scal...</td>\n",
       "      <td>\"DeepMind Search Search Close DeepMind About O...</td>\n",
       "    </tr>\n",
       "    <tr>\n",
       "      <th>70</th>\n",
       "      <td>74</td>\n",
       "      <td>2018</td>\n",
       "      <td>\"DeepMind, meet Android - Google DeepMind\"</td>\n",
       "      <td>\"https://deepmind.com/blog/announcements/deepm...</td>\n",
       "      <td>\"DeepMind Search Search Close DeepMind About O...</td>\n",
       "    </tr>\n",
       "    <tr>\n",
       "      <th>77</th>\n",
       "      <td>82</td>\n",
       "      <td>2018</td>\n",
       "      <td>\"AlphaZero: Shedding new light on chess, shogi...</td>\n",
       "      <td>\"https://deepmind.com/blog/article/alphazero-s...</td>\n",
       "      <td>\"DeepMind Search Search Close DeepMind About O...</td>\n",
       "    </tr>\n",
       "  </tbody>\n",
       "</table>\n",
       "</div>"
      ],
      "text/plain": [
       "    id  year                                              title  \\\n",
       "68  72  2018  \"Scalable agent architecture for distributed t...   \n",
       "70  74  2018         \"DeepMind, meet Android - Google DeepMind\"   \n",
       "77  82  2018  \"AlphaZero: Shedding new light on chess, shogi...   \n",
       "\n",
       "                                                  url  \\\n",
       "68  \"https://deepmind.com/blog/article/impala-scal...   \n",
       "70  \"https://deepmind.com/blog/announcements/deepm...   \n",
       "77  \"https://deepmind.com/blog/article/alphazero-s...   \n",
       "\n",
       "                                                 text  \n",
       "68  \"DeepMind Search Search Close DeepMind About O...  \n",
       "70  \"DeepMind Search Search Close DeepMind About O...  \n",
       "77  \"DeepMind Search Search Close DeepMind About O...  "
      ]
     },
     "metadata": {},
     "output_type": "display_data"
    },
    {
     "data": {
      "text/markdown": [
       "---"
      ],
      "text/plain": [
       "<IPython.core.display.Markdown object>"
      ]
     },
     "metadata": {},
     "output_type": "display_data"
    },
    {
     "data": {
      "text/markdown": [
       "### Year: 2017"
      ],
      "text/plain": [
       "<IPython.core.display.Markdown object>"
      ]
     },
     "metadata": {},
     "output_type": "display_data"
    },
    {
     "data": {
      "text/markdown": [
       "Number of articles: 82"
      ],
      "text/plain": [
       "<IPython.core.display.Markdown object>"
      ]
     },
     "metadata": {},
     "output_type": "display_data"
    },
    {
     "data": {
      "text/html": [
       "<div>\n",
       "<style scoped>\n",
       "    .dataframe tbody tr th:only-of-type {\n",
       "        vertical-align: middle;\n",
       "    }\n",
       "\n",
       "    .dataframe tbody tr th {\n",
       "        vertical-align: top;\n",
       "    }\n",
       "\n",
       "    .dataframe thead th {\n",
       "        text-align: right;\n",
       "    }\n",
       "</style>\n",
       "<table border=\"1\" class=\"dataframe\">\n",
       "  <thead>\n",
       "    <tr style=\"text-align: right;\">\n",
       "      <th></th>\n",
       "      <th>id</th>\n",
       "      <th>year</th>\n",
       "      <th>title</th>\n",
       "      <th>url</th>\n",
       "      <th>text</th>\n",
       "    </tr>\n",
       "  </thead>\n",
       "  <tbody>\n",
       "    <tr>\n",
       "      <th>67</th>\n",
       "      <td>71</td>\n",
       "      <td>2017</td>\n",
       "      <td>\"Indaba - Deep Learning Indaba 2023\"</td>\n",
       "      <td>\"http://www.deeplearningindaba.com\"</td>\n",
       "      <td>\"Indaba Organisers Affiliated Communities Spon...</td>\n",
       "    </tr>\n",
       "    <tr>\n",
       "      <th>97</th>\n",
       "      <td>107</td>\n",
       "      <td>2017</td>\n",
       "      <td>\"Protein - Wikipedia\"</td>\n",
       "      <td>\"https://en.wikipedia.org/wiki/Protein\"</td>\n",
       "      <td>\"Main menu Main page Contents Current events R...</td>\n",
       "    </tr>\n",
       "    <tr>\n",
       "      <th>98</th>\n",
       "      <td>109</td>\n",
       "      <td>2017</td>\n",
       "      <td>\"AlphaGo Zero: Starting from scratch - Google ...</td>\n",
       "      <td>\"https://deepmind.com/blog/article/alphago-zer...</td>\n",
       "      <td>\"DeepMind Search Search Close DeepMind About O...</td>\n",
       "    </tr>\n",
       "  </tbody>\n",
       "</table>\n",
       "</div>"
      ],
      "text/plain": [
       "     id  year                                              title  \\\n",
       "67   71  2017               \"Indaba - Deep Learning Indaba 2023\"   \n",
       "97  107  2017                              \"Protein - Wikipedia\"   \n",
       "98  109  2017  \"AlphaGo Zero: Starting from scratch - Google ...   \n",
       "\n",
       "                                                  url  \\\n",
       "67                \"http://www.deeplearningindaba.com\"   \n",
       "97            \"https://en.wikipedia.org/wiki/Protein\"   \n",
       "98  \"https://deepmind.com/blog/article/alphago-zer...   \n",
       "\n",
       "                                                 text  \n",
       "67  \"Indaba Organisers Affiliated Communities Spon...  \n",
       "97  \"Main menu Main page Contents Current events R...  \n",
       "98  \"DeepMind Search Search Close DeepMind About O...  "
      ]
     },
     "metadata": {},
     "output_type": "display_data"
    },
    {
     "data": {
      "text/markdown": [
       "---"
      ],
      "text/plain": [
       "<IPython.core.display.Markdown object>"
      ]
     },
     "metadata": {},
     "output_type": "display_data"
    },
    {
     "data": {
      "text/markdown": [
       "### Year: 2016"
      ],
      "text/plain": [
       "<IPython.core.display.Markdown object>"
      ]
     },
     "metadata": {},
     "output_type": "display_data"
    },
    {
     "data": {
      "text/markdown": [
       "Number of articles: 56"
      ],
      "text/plain": [
       "<IPython.core.display.Markdown object>"
      ]
     },
     "metadata": {},
     "output_type": "display_data"
    },
    {
     "data": {
      "text/html": [
       "<div>\n",
       "<style scoped>\n",
       "    .dataframe tbody tr th:only-of-type {\n",
       "        vertical-align: middle;\n",
       "    }\n",
       "\n",
       "    .dataframe tbody tr th {\n",
       "        vertical-align: top;\n",
       "    }\n",
       "\n",
       "    .dataframe thead th {\n",
       "        text-align: right;\n",
       "    }\n",
       "</style>\n",
       "<table border=\"1\" class=\"dataframe\">\n",
       "  <thead>\n",
       "    <tr style=\"text-align: right;\">\n",
       "      <th></th>\n",
       "      <th>id</th>\n",
       "      <th>year</th>\n",
       "      <th>title</th>\n",
       "      <th>url</th>\n",
       "      <th>text</th>\n",
       "    </tr>\n",
       "  </thead>\n",
       "  <tbody>\n",
       "    <tr>\n",
       "      <th>15</th>\n",
       "      <td>15</td>\n",
       "      <td>2016</td>\n",
       "      <td>\"AlphaGo - Google DeepMind\"</td>\n",
       "      <td>\"https://www.deepmind.com/research/highlighted...</td>\n",
       "      <td>\"DeepMind Search Search Close DeepMind About O...</td>\n",
       "    </tr>\n",
       "    <tr>\n",
       "      <th>49</th>\n",
       "      <td>52</td>\n",
       "      <td>2016</td>\n",
       "      <td>\"INDIGENOUS AI — PEOPLE\"</td>\n",
       "      <td>\"https://www.indigenous-ai.net/people\"</td>\n",
       "      <td>\"INDIGENOUS AI POSITION PAPER WORKSHOPS BLOG A...</td>\n",
       "    </tr>\n",
       "    <tr>\n",
       "      <th>73</th>\n",
       "      <td>78</td>\n",
       "      <td>2016</td>\n",
       "      <td>\"AlphaGo - Google DeepMind\"</td>\n",
       "      <td>\"https://deepmind.com/research/case-studies/al...</td>\n",
       "      <td>\"DeepMind Search Search Close DeepMind About O...</td>\n",
       "    </tr>\n",
       "  </tbody>\n",
       "</table>\n",
       "</div>"
      ],
      "text/plain": [
       "    id  year                        title  \\\n",
       "15  15  2016  \"AlphaGo - Google DeepMind\"   \n",
       "49  52  2016     \"INDIGENOUS AI — PEOPLE\"   \n",
       "73  78  2016  \"AlphaGo - Google DeepMind\"   \n",
       "\n",
       "                                                  url  \\\n",
       "15  \"https://www.deepmind.com/research/highlighted...   \n",
       "49             \"https://www.indigenous-ai.net/people\"   \n",
       "73  \"https://deepmind.com/research/case-studies/al...   \n",
       "\n",
       "                                                 text  \n",
       "15  \"DeepMind Search Search Close DeepMind About O...  \n",
       "49  \"INDIGENOUS AI POSITION PAPER WORKSHOPS BLOG A...  \n",
       "73  \"DeepMind Search Search Close DeepMind About O...  "
      ]
     },
     "metadata": {},
     "output_type": "display_data"
    },
    {
     "data": {
      "text/markdown": [
       "---"
      ],
      "text/plain": [
       "<IPython.core.display.Markdown object>"
      ]
     },
     "metadata": {},
     "output_type": "display_data"
    },
    {
     "data": {
      "text/markdown": [
       "### Year: 2015"
      ],
      "text/plain": [
       "<IPython.core.display.Markdown object>"
      ]
     },
     "metadata": {},
     "output_type": "display_data"
    },
    {
     "data": {
      "text/markdown": [
       "Number of articles: 31"
      ],
      "text/plain": [
       "<IPython.core.display.Markdown object>"
      ]
     },
     "metadata": {},
     "output_type": "display_data"
    },
    {
     "data": {
      "text/html": [
       "<div>\n",
       "<style scoped>\n",
       "    .dataframe tbody tr th:only-of-type {\n",
       "        vertical-align: middle;\n",
       "    }\n",
       "\n",
       "    .dataframe tbody tr th {\n",
       "        vertical-align: top;\n",
       "    }\n",
       "\n",
       "    .dataframe thead th {\n",
       "        text-align: right;\n",
       "    }\n",
       "</style>\n",
       "<table border=\"1\" class=\"dataframe\">\n",
       "  <thead>\n",
       "    <tr style=\"text-align: right;\">\n",
       "      <th></th>\n",
       "      <th>id</th>\n",
       "      <th>year</th>\n",
       "      <th>title</th>\n",
       "      <th>url</th>\n",
       "      <th>text</th>\n",
       "    </tr>\n",
       "  </thead>\n",
       "  <tbody>\n",
       "    <tr>\n",
       "      <th>297</th>\n",
       "      <td>310</td>\n",
       "      <td>2015</td>\n",
       "      <td>\"The Plot to Free North Korea With Smuggled Ep...</td>\n",
       "      <td>\"https://www.wired.com/2015/03/north-korea\"</td>\n",
       "      <td>\"Open Navigation Menu To revist this article, ...</td>\n",
       "    </tr>\n",
       "    <tr>\n",
       "      <th>325</th>\n",
       "      <td>339</td>\n",
       "      <td>2015</td>\n",
       "      <td>\"Commonsense reasoning and commonsense knowled...</td>\n",
       "      <td>\"https://dl.acm.org/doi/10.1145/2701413\"</td>\n",
       "      <td>\"Dartmouth College Advanced Search Browse Abou...</td>\n",
       "    </tr>\n",
       "    <tr>\n",
       "      <th>328</th>\n",
       "      <td>342</td>\n",
       "      <td>2015</td>\n",
       "      <td>\"The Philosopher of Doomsday | The New Yorker\"</td>\n",
       "      <td>\"https://www.newyorker.com/magazine/2015/11/23...</td>\n",
       "      <td>\"A Reporter at Large The Doomsday Invention Wi...</td>\n",
       "    </tr>\n",
       "  </tbody>\n",
       "</table>\n",
       "</div>"
      ],
      "text/plain": [
       "      id  year                                              title  \\\n",
       "297  310  2015  \"The Plot to Free North Korea With Smuggled Ep...   \n",
       "325  339  2015  \"Commonsense reasoning and commonsense knowled...   \n",
       "328  342  2015     \"The Philosopher of Doomsday | The New Yorker\"   \n",
       "\n",
       "                                                   url  \\\n",
       "297        \"https://www.wired.com/2015/03/north-korea\"   \n",
       "325           \"https://dl.acm.org/doi/10.1145/2701413\"   \n",
       "328  \"https://www.newyorker.com/magazine/2015/11/23...   \n",
       "\n",
       "                                                  text  \n",
       "297  \"Open Navigation Menu To revist this article, ...  \n",
       "325  \"Dartmouth College Advanced Search Browse Abou...  \n",
       "328  \"A Reporter at Large The Doomsday Invention Wi...  "
      ]
     },
     "metadata": {},
     "output_type": "display_data"
    },
    {
     "data": {
      "text/markdown": [
       "---"
      ],
      "text/plain": [
       "<IPython.core.display.Markdown object>"
      ]
     },
     "metadata": {},
     "output_type": "display_data"
    },
    {
     "data": {
      "text/markdown": [
       "### Year: 2014"
      ],
      "text/plain": [
       "<IPython.core.display.Markdown object>"
      ]
     },
     "metadata": {},
     "output_type": "display_data"
    },
    {
     "data": {
      "text/markdown": [
       "Number of articles: 10"
      ],
      "text/plain": [
       "<IPython.core.display.Markdown object>"
      ]
     },
     "metadata": {},
     "output_type": "display_data"
    },
    {
     "data": {
      "text/html": [
       "<div>\n",
       "<style scoped>\n",
       "    .dataframe tbody tr th:only-of-type {\n",
       "        vertical-align: middle;\n",
       "    }\n",
       "\n",
       "    .dataframe tbody tr th {\n",
       "        vertical-align: top;\n",
       "    }\n",
       "\n",
       "    .dataframe thead th {\n",
       "        text-align: right;\n",
       "    }\n",
       "</style>\n",
       "<table border=\"1\" class=\"dataframe\">\n",
       "  <thead>\n",
       "    <tr style=\"text-align: right;\">\n",
       "      <th></th>\n",
       "      <th>id</th>\n",
       "      <th>year</th>\n",
       "      <th>title</th>\n",
       "      <th>url</th>\n",
       "      <th>text</th>\n",
       "    </tr>\n",
       "  </thead>\n",
       "  <tbody>\n",
       "    <tr>\n",
       "      <th>617</th>\n",
       "      <td>638</td>\n",
       "      <td>2014</td>\n",
       "      <td>\"Jiwei Li | MIT Technology Review\"</td>\n",
       "      <td>\"https://www.technologyreview.com/innovator/ji...</td>\n",
       "      <td>\"Featured Topics Newsletters Events Podcasts F...</td>\n",
       "    </tr>\n",
       "    <tr>\n",
       "      <th>754</th>\n",
       "      <td>782</td>\n",
       "      <td>2014</td>\n",
       "      <td>\"OII | People\"</td>\n",
       "      <td>\"https://www.oii.ox.ac.uk/people/dphil-students\"</td>\n",
       "      <td>\"Research Research Section Home Research Areas...</td>\n",
       "    </tr>\n",
       "    <tr>\n",
       "      <th>798</th>\n",
       "      <td>829</td>\n",
       "      <td>2014</td>\n",
       "      <td>\"Foundations\"</td>\n",
       "      <td>\"https://www.iter.org/construction/tkmfoundati...</td>\n",
       "      <td>\"Jobs 7 Tenders 78 Faqs Visits Contact us ITER...</td>\n",
       "    </tr>\n",
       "  </tbody>\n",
       "</table>\n",
       "</div>"
      ],
      "text/plain": [
       "      id  year                               title  \\\n",
       "617  638  2014  \"Jiwei Li | MIT Technology Review\"   \n",
       "754  782  2014                      \"OII | People\"   \n",
       "798  829  2014                       \"Foundations\"   \n",
       "\n",
       "                                                   url  \\\n",
       "617  \"https://www.technologyreview.com/innovator/ji...   \n",
       "754   \"https://www.oii.ox.ac.uk/people/dphil-students\"   \n",
       "798  \"https://www.iter.org/construction/tkmfoundati...   \n",
       "\n",
       "                                                  text  \n",
       "617  \"Featured Topics Newsletters Events Podcasts F...  \n",
       "754  \"Research Research Section Home Research Areas...  \n",
       "798  \"Jobs 7 Tenders 78 Faqs Visits Contact us ITER...  "
      ]
     },
     "metadata": {},
     "output_type": "display_data"
    },
    {
     "data": {
      "text/markdown": [
       "---"
      ],
      "text/plain": [
       "<IPython.core.display.Markdown object>"
      ]
     },
     "metadata": {},
     "output_type": "display_data"
    },
    {
     "data": {
      "text/markdown": [
       "### Year: 2013"
      ],
      "text/plain": [
       "<IPython.core.display.Markdown object>"
      ]
     },
     "metadata": {},
     "output_type": "display_data"
    },
    {
     "data": {
      "text/markdown": [
       "Number of articles: 6"
      ],
      "text/plain": [
       "<IPython.core.display.Markdown object>"
      ]
     },
     "metadata": {},
     "output_type": "display_data"
    },
    {
     "data": {
      "text/html": [
       "<div>\n",
       "<style scoped>\n",
       "    .dataframe tbody tr th:only-of-type {\n",
       "        vertical-align: middle;\n",
       "    }\n",
       "\n",
       "    .dataframe tbody tr th {\n",
       "        vertical-align: top;\n",
       "    }\n",
       "\n",
       "    .dataframe thead th {\n",
       "        text-align: right;\n",
       "    }\n",
       "</style>\n",
       "<table border=\"1\" class=\"dataframe\">\n",
       "  <thead>\n",
       "    <tr style=\"text-align: right;\">\n",
       "      <th></th>\n",
       "      <th>id</th>\n",
       "      <th>year</th>\n",
       "      <th>title</th>\n",
       "      <th>url</th>\n",
       "      <th>text</th>\n",
       "    </tr>\n",
       "  </thead>\n",
       "  <tbody>\n",
       "    <tr>\n",
       "      <th>311</th>\n",
       "      <td>325</td>\n",
       "      <td>2013</td>\n",
       "      <td>\"Chill: Robots Won't Take All Our Jobs | WIRED\"</td>\n",
       "      <td>\"https://www.wired.com/2017/08/robots-will-not...</td>\n",
       "      <td>\"WIRED Logo The Great Tech Panic: Robots Won’t...</td>\n",
       "    </tr>\n",
       "    <tr>\n",
       "      <th>669</th>\n",
       "      <td>691</td>\n",
       "      <td>2013</td>\n",
       "      <td>\"Tech Policy Lab | University of Washington\"</td>\n",
       "      <td>\"https://techpolicylab.uw.edu\"</td>\n",
       "      <td>\"Tech Policy Lab University of Washington Join...</td>\n",
       "    </tr>\n",
       "    <tr>\n",
       "      <th>2104</th>\n",
       "      <td>2159</td>\n",
       "      <td>2013</td>\n",
       "      <td>\"FDA Approves Eye Implant Enabling The Blind T...</td>\n",
       "      <td>\"https://singularityhub.com/2013/02/19/fda-app...</td>\n",
       "      <td>\"Topics AI Biotech Computing Space Energy Futu...</td>\n",
       "    </tr>\n",
       "  </tbody>\n",
       "</table>\n",
       "</div>"
      ],
      "text/plain": [
       "        id  year                                              title  \\\n",
       "311    325  2013    \"Chill: Robots Won't Take All Our Jobs | WIRED\"   \n",
       "669    691  2013       \"Tech Policy Lab | University of Washington\"   \n",
       "2104  2159  2013  \"FDA Approves Eye Implant Enabling The Blind T...   \n",
       "\n",
       "                                                    url  \\\n",
       "311   \"https://www.wired.com/2017/08/robots-will-not...   \n",
       "669                      \"https://techpolicylab.uw.edu\"   \n",
       "2104  \"https://singularityhub.com/2013/02/19/fda-app...   \n",
       "\n",
       "                                                   text  \n",
       "311   \"WIRED Logo The Great Tech Panic: Robots Won’t...  \n",
       "669   \"Tech Policy Lab University of Washington Join...  \n",
       "2104  \"Topics AI Biotech Computing Space Energy Futu...  "
      ]
     },
     "metadata": {},
     "output_type": "display_data"
    },
    {
     "data": {
      "text/markdown": [
       "---"
      ],
      "text/plain": [
       "<IPython.core.display.Markdown object>"
      ]
     },
     "metadata": {},
     "output_type": "display_data"
    },
    {
     "data": {
      "text/markdown": [
       "### Year: 2012"
      ],
      "text/plain": [
       "<IPython.core.display.Markdown object>"
      ]
     },
     "metadata": {},
     "output_type": "display_data"
    },
    {
     "data": {
      "text/markdown": [
       "Number of articles: 8"
      ],
      "text/plain": [
       "<IPython.core.display.Markdown object>"
      ]
     },
     "metadata": {},
     "output_type": "display_data"
    },
    {
     "data": {
      "text/html": [
       "<div>\n",
       "<style scoped>\n",
       "    .dataframe tbody tr th:only-of-type {\n",
       "        vertical-align: middle;\n",
       "    }\n",
       "\n",
       "    .dataframe tbody tr th {\n",
       "        vertical-align: top;\n",
       "    }\n",
       "\n",
       "    .dataframe thead th {\n",
       "        text-align: right;\n",
       "    }\n",
       "</style>\n",
       "<table border=\"1\" class=\"dataframe\">\n",
       "  <thead>\n",
       "    <tr style=\"text-align: right;\">\n",
       "      <th></th>\n",
       "      <th>id</th>\n",
       "      <th>year</th>\n",
       "      <th>title</th>\n",
       "      <th>url</th>\n",
       "      <th>text</th>\n",
       "    </tr>\n",
       "  </thead>\n",
       "  <tbody>\n",
       "    <tr>\n",
       "      <th>52</th>\n",
       "      <td>55</td>\n",
       "      <td>2012</td>\n",
       "      <td>\"Rachel Haurwitz | MIT Technology Review\"</td>\n",
       "      <td>\"https://www.technologyreview.com/innovator/ra...</td>\n",
       "      <td>\"Featured Topics Newsletters Events Podcasts F...</td>\n",
       "    </tr>\n",
       "    <tr>\n",
       "      <th>985</th>\n",
       "      <td>1017</td>\n",
       "      <td>2012</td>\n",
       "      <td>\"Fiji: an open-source platform for biological-...</td>\n",
       "      <td>\"https://doi.org/10.1038%2Fnmeth.2019\"</td>\n",
       "      <td>\"Thank you for visiting nature.com. You are us...</td>\n",
       "    </tr>\n",
       "    <tr>\n",
       "      <th>1150</th>\n",
       "      <td>1191</td>\n",
       "      <td>2012</td>\n",
       "      <td>\"Department Of Computer Science | Makerere Uni...</td>\n",
       "      <td>\"https://cs.mak.ac.ug/people/faculty\"</td>\n",
       "      <td>\"Makerere University Department of Computer Sc...</td>\n",
       "    </tr>\n",
       "  </tbody>\n",
       "</table>\n",
       "</div>"
      ],
      "text/plain": [
       "        id  year                                              title  \\\n",
       "52      55  2012          \"Rachel Haurwitz | MIT Technology Review\"   \n",
       "985   1017  2012  \"Fiji: an open-source platform for biological-...   \n",
       "1150  1191  2012  \"Department Of Computer Science | Makerere Uni...   \n",
       "\n",
       "                                                    url  \\\n",
       "52    \"https://www.technologyreview.com/innovator/ra...   \n",
       "985              \"https://doi.org/10.1038%2Fnmeth.2019\"   \n",
       "1150              \"https://cs.mak.ac.ug/people/faculty\"   \n",
       "\n",
       "                                                   text  \n",
       "52    \"Featured Topics Newsletters Events Podcasts F...  \n",
       "985   \"Thank you for visiting nature.com. You are us...  \n",
       "1150  \"Makerere University Department of Computer Sc...  "
      ]
     },
     "metadata": {},
     "output_type": "display_data"
    },
    {
     "data": {
      "text/markdown": [
       "---"
      ],
      "text/plain": [
       "<IPython.core.display.Markdown object>"
      ]
     },
     "metadata": {},
     "output_type": "display_data"
    },
    {
     "data": {
      "text/markdown": [
       "### Year: 2011"
      ],
      "text/plain": [
       "<IPython.core.display.Markdown object>"
      ]
     },
     "metadata": {},
     "output_type": "display_data"
    },
    {
     "data": {
      "text/markdown": [
       "Number of articles: 4"
      ],
      "text/plain": [
       "<IPython.core.display.Markdown object>"
      ]
     },
     "metadata": {},
     "output_type": "display_data"
    },
    {
     "data": {
      "text/html": [
       "<div>\n",
       "<style scoped>\n",
       "    .dataframe tbody tr th:only-of-type {\n",
       "        vertical-align: middle;\n",
       "    }\n",
       "\n",
       "    .dataframe tbody tr th {\n",
       "        vertical-align: top;\n",
       "    }\n",
       "\n",
       "    .dataframe thead th {\n",
       "        text-align: right;\n",
       "    }\n",
       "</style>\n",
       "<table border=\"1\" class=\"dataframe\">\n",
       "  <thead>\n",
       "    <tr style=\"text-align: right;\">\n",
       "      <th></th>\n",
       "      <th>id</th>\n",
       "      <th>year</th>\n",
       "      <th>title</th>\n",
       "      <th>url</th>\n",
       "      <th>text</th>\n",
       "    </tr>\n",
       "  </thead>\n",
       "  <tbody>\n",
       "    <tr>\n",
       "      <th>730</th>\n",
       "      <td>756</td>\n",
       "      <td>2011</td>\n",
       "      <td>\"Stochastic gradient descent - Wikipedia\"</td>\n",
       "      <td>\"https://en.wikipedia.org/wiki/Stochastic_grad...</td>\n",
       "      <td>\"Main menu Main page Contents Current events R...</td>\n",
       "    </tr>\n",
       "    <tr>\n",
       "      <th>1116</th>\n",
       "      <td>1149</td>\n",
       "      <td>2011</td>\n",
       "      <td>\"IBM Blue Gene - Wikipedia\"</td>\n",
       "      <td>\"https://en.wikipedia.org/wiki/IBM_Blue_Gene\"</td>\n",
       "      <td>\"Main menu Main page Contents Current events R...</td>\n",
       "    </tr>\n",
       "    <tr>\n",
       "      <th>2027</th>\n",
       "      <td>2082</td>\n",
       "      <td>2011</td>\n",
       "      <td>\"David J. Hill, Author at Singularity Hub\"</td>\n",
       "      <td>\"https://singularityhub.com/author/dhill\"</td>\n",
       "      <td>\"Topics AI Biotech Computing Space Energy Futu...</td>\n",
       "    </tr>\n",
       "  </tbody>\n",
       "</table>\n",
       "</div>"
      ],
      "text/plain": [
       "        id  year                                       title  \\\n",
       "730    756  2011   \"Stochastic gradient descent - Wikipedia\"   \n",
       "1116  1149  2011                 \"IBM Blue Gene - Wikipedia\"   \n",
       "2027  2082  2011  \"David J. Hill, Author at Singularity Hub\"   \n",
       "\n",
       "                                                    url  \\\n",
       "730   \"https://en.wikipedia.org/wiki/Stochastic_grad...   \n",
       "1116      \"https://en.wikipedia.org/wiki/IBM_Blue_Gene\"   \n",
       "2027          \"https://singularityhub.com/author/dhill\"   \n",
       "\n",
       "                                                   text  \n",
       "730   \"Main menu Main page Contents Current events R...  \n",
       "1116  \"Main menu Main page Contents Current events R...  \n",
       "2027  \"Topics AI Biotech Computing Space Energy Futu...  "
      ]
     },
     "metadata": {},
     "output_type": "display_data"
    },
    {
     "data": {
      "text/markdown": [
       "---"
      ],
      "text/plain": [
       "<IPython.core.display.Markdown object>"
      ]
     },
     "metadata": {},
     "output_type": "display_data"
    },
    {
     "data": {
      "text/markdown": [
       "### Year: 2010"
      ],
      "text/plain": [
       "<IPython.core.display.Markdown object>"
      ]
     },
     "metadata": {},
     "output_type": "display_data"
    },
    {
     "data": {
      "text/markdown": [
       "Number of articles: 3"
      ],
      "text/plain": [
       "<IPython.core.display.Markdown object>"
      ]
     },
     "metadata": {},
     "output_type": "display_data"
    },
    {
     "data": {
      "text/html": [
       "<div>\n",
       "<style scoped>\n",
       "    .dataframe tbody tr th:only-of-type {\n",
       "        vertical-align: middle;\n",
       "    }\n",
       "\n",
       "    .dataframe tbody tr th {\n",
       "        vertical-align: top;\n",
       "    }\n",
       "\n",
       "    .dataframe thead th {\n",
       "        text-align: right;\n",
       "    }\n",
       "</style>\n",
       "<table border=\"1\" class=\"dataframe\">\n",
       "  <thead>\n",
       "    <tr style=\"text-align: right;\">\n",
       "      <th></th>\n",
       "      <th>id</th>\n",
       "      <th>year</th>\n",
       "      <th>title</th>\n",
       "      <th>url</th>\n",
       "      <th>text</th>\n",
       "    </tr>\n",
       "  </thead>\n",
       "  <tbody>\n",
       "    <tr>\n",
       "      <th>401</th>\n",
       "      <td>421</td>\n",
       "      <td>2010</td>\n",
       "      <td>\"Synthetic biology: applications come of age -...</td>\n",
       "      <td>\"http://www.ncbi.nlm.nih.gov/pmc/articles/PMC2...</td>\n",
       "      <td>\"An official website of the United States gove...</td>\n",
       "    </tr>\n",
       "    <tr>\n",
       "      <th>408</th>\n",
       "      <td>428</td>\n",
       "      <td>2010</td>\n",
       "      <td>\"Synthetic biology: applications come of age |...</td>\n",
       "      <td>\"https://doi.org/10.1038%2Fnrg2775\"</td>\n",
       "      <td>\"Thank you for visiting nature.com. You are us...</td>\n",
       "    </tr>\n",
       "    <tr>\n",
       "      <th>1606</th>\n",
       "      <td>1655</td>\n",
       "      <td>2010</td>\n",
       "      <td>\"REBUS and the Anarchic Brain: Toward a Unifie...</td>\n",
       "      <td>\"https://doi.org/10.1124/pr.118.017160\"</td>\n",
       "      <td>\"Main menu Home Articles Current Issue Fast Fo...</td>\n",
       "    </tr>\n",
       "  </tbody>\n",
       "</table>\n",
       "</div>"
      ],
      "text/plain": [
       "        id  year                                              title  \\\n",
       "401    421  2010  \"Synthetic biology: applications come of age -...   \n",
       "408    428  2010  \"Synthetic biology: applications come of age |...   \n",
       "1606  1655  2010  \"REBUS and the Anarchic Brain: Toward a Unifie...   \n",
       "\n",
       "                                                    url  \\\n",
       "401   \"http://www.ncbi.nlm.nih.gov/pmc/articles/PMC2...   \n",
       "408                 \"https://doi.org/10.1038%2Fnrg2775\"   \n",
       "1606            \"https://doi.org/10.1124/pr.118.017160\"   \n",
       "\n",
       "                                                   text  \n",
       "401   \"An official website of the United States gove...  \n",
       "408   \"Thank you for visiting nature.com. You are us...  \n",
       "1606  \"Main menu Home Articles Current Issue Fast Fo...  "
      ]
     },
     "metadata": {},
     "output_type": "display_data"
    },
    {
     "data": {
      "text/markdown": [
       "---"
      ],
      "text/plain": [
       "<IPython.core.display.Markdown object>"
      ]
     },
     "metadata": {},
     "output_type": "display_data"
    },
    {
     "data": {
      "text/markdown": [
       "### Year: 2009"
      ],
      "text/plain": [
       "<IPython.core.display.Markdown object>"
      ]
     },
     "metadata": {},
     "output_type": "display_data"
    },
    {
     "data": {
      "text/markdown": [
       "Number of articles: 12"
      ],
      "text/plain": [
       "<IPython.core.display.Markdown object>"
      ]
     },
     "metadata": {},
     "output_type": "display_data"
    },
    {
     "data": {
      "text/html": [
       "<div>\n",
       "<style scoped>\n",
       "    .dataframe tbody tr th:only-of-type {\n",
       "        vertical-align: middle;\n",
       "    }\n",
       "\n",
       "    .dataframe tbody tr th {\n",
       "        vertical-align: top;\n",
       "    }\n",
       "\n",
       "    .dataframe thead th {\n",
       "        text-align: right;\n",
       "    }\n",
       "</style>\n",
       "<table border=\"1\" class=\"dataframe\">\n",
       "  <thead>\n",
       "    <tr style=\"text-align: right;\">\n",
       "      <th></th>\n",
       "      <th>id</th>\n",
       "      <th>year</th>\n",
       "      <th>title</th>\n",
       "      <th>url</th>\n",
       "      <th>text</th>\n",
       "    </tr>\n",
       "  </thead>\n",
       "  <tbody>\n",
       "    <tr>\n",
       "      <th>688</th>\n",
       "      <td>710</td>\n",
       "      <td>2009</td>\n",
       "      <td>\"Stroop and picture—word interference are two ...</td>\n",
       "      <td>\"https://doi.org/10.3758%2FPBR.16.6.987\"</td>\n",
       "      <td>\"Advertisement Log in Menu Search Cart Home Ps...</td>\n",
       "    </tr>\n",
       "    <tr>\n",
       "      <th>696</th>\n",
       "      <td>719</td>\n",
       "      <td>2009</td>\n",
       "      <td>\"\"Computational and Biological Learning Lab, C...</td>\n",
       "      <td>\"http://www.cs.nyu.edu/~yann/index\"</td>\n",
       "      <td>\"CBLL HOME VLG Group News/Events Seminars Peop...</td>\n",
       "    </tr>\n",
       "    <tr>\n",
       "      <th>698</th>\n",
       "      <td>721</td>\n",
       "      <td>2009</td>\n",
       "      <td>\"\"CBLL, Research Projects, Computational and B...</td>\n",
       "      <td>\"http://www.cs.nyu.edu/~yann/research/lagr\"</td>\n",
       "      <td>\"CBLL HOME VLG Group News/Events Seminars Peop...</td>\n",
       "    </tr>\n",
       "  </tbody>\n",
       "</table>\n",
       "</div>"
      ],
      "text/plain": [
       "      id  year                                              title  \\\n",
       "688  710  2009  \"Stroop and picture—word interference are two ...   \n",
       "696  719  2009  \"\"Computational and Biological Learning Lab, C...   \n",
       "698  721  2009  \"\"CBLL, Research Projects, Computational and B...   \n",
       "\n",
       "                                             url  \\\n",
       "688     \"https://doi.org/10.3758%2FPBR.16.6.987\"   \n",
       "696          \"http://www.cs.nyu.edu/~yann/index\"   \n",
       "698  \"http://www.cs.nyu.edu/~yann/research/lagr\"   \n",
       "\n",
       "                                                  text  \n",
       "688  \"Advertisement Log in Menu Search Cart Home Ps...  \n",
       "696  \"CBLL HOME VLG Group News/Events Seminars Peop...  \n",
       "698  \"CBLL HOME VLG Group News/Events Seminars Peop...  "
      ]
     },
     "metadata": {},
     "output_type": "display_data"
    },
    {
     "data": {
      "text/markdown": [
       "---"
      ],
      "text/plain": [
       "<IPython.core.display.Markdown object>"
      ]
     },
     "metadata": {},
     "output_type": "display_data"
    },
    {
     "data": {
      "text/markdown": [
       "### Year: 2008"
      ],
      "text/plain": [
       "<IPython.core.display.Markdown object>"
      ]
     },
     "metadata": {},
     "output_type": "display_data"
    },
    {
     "data": {
      "text/markdown": [
       "Number of articles: 5"
      ],
      "text/plain": [
       "<IPython.core.display.Markdown object>"
      ]
     },
     "metadata": {},
     "output_type": "display_data"
    },
    {
     "data": {
      "text/html": [
       "<div>\n",
       "<style scoped>\n",
       "    .dataframe tbody tr th:only-of-type {\n",
       "        vertical-align: middle;\n",
       "    }\n",
       "\n",
       "    .dataframe tbody tr th {\n",
       "        vertical-align: top;\n",
       "    }\n",
       "\n",
       "    .dataframe thead th {\n",
       "        text-align: right;\n",
       "    }\n",
       "</style>\n",
       "<table border=\"1\" class=\"dataframe\">\n",
       "  <thead>\n",
       "    <tr style=\"text-align: right;\">\n",
       "      <th></th>\n",
       "      <th>id</th>\n",
       "      <th>year</th>\n",
       "      <th>title</th>\n",
       "      <th>url</th>\n",
       "      <th>text</th>\n",
       "    </tr>\n",
       "  </thead>\n",
       "  <tbody>\n",
       "    <tr>\n",
       "      <th>265</th>\n",
       "      <td>277</td>\n",
       "      <td>2008</td>\n",
       "      <td>\"Abundance360 by Peter Diamandis\"</td>\n",
       "      <td>\"https://www.abundance360.com\"</td>\n",
       "      <td>\"Abundance360 Applications Are Now Open by Sin...</td>\n",
       "    </tr>\n",
       "    <tr>\n",
       "      <th>400</th>\n",
       "      <td>420</td>\n",
       "      <td>2008</td>\n",
       "      <td>\"Diversity and Evolution of Coral Fluorescent ...</td>\n",
       "      <td>\"http://www.ncbi.nlm.nih.gov/pmc/articles/PMC2...</td>\n",
       "      <td>\"An official website of the United States gove...</td>\n",
       "    </tr>\n",
       "    <tr>\n",
       "      <th>775</th>\n",
       "      <td>804</td>\n",
       "      <td>2008</td>\n",
       "      <td>\"Stockfish (chess) - Wikipedia\"</td>\n",
       "      <td>\"https://en.wikipedia.org/wiki/Stockfish_(chess)\"</td>\n",
       "      <td>\"Main menu Main page Contents Current events R...</td>\n",
       "    </tr>\n",
       "  </tbody>\n",
       "</table>\n",
       "</div>"
      ],
      "text/plain": [
       "      id  year                                              title  \\\n",
       "265  277  2008                  \"Abundance360 by Peter Diamandis\"   \n",
       "400  420  2008  \"Diversity and Evolution of Coral Fluorescent ...   \n",
       "775  804  2008                    \"Stockfish (chess) - Wikipedia\"   \n",
       "\n",
       "                                                   url  \\\n",
       "265                     \"https://www.abundance360.com\"   \n",
       "400  \"http://www.ncbi.nlm.nih.gov/pmc/articles/PMC2...   \n",
       "775  \"https://en.wikipedia.org/wiki/Stockfish_(chess)\"   \n",
       "\n",
       "                                                  text  \n",
       "265  \"Abundance360 Applications Are Now Open by Sin...  \n",
       "400  \"An official website of the United States gove...  \n",
       "775  \"Main menu Main page Contents Current events R...  "
      ]
     },
     "metadata": {},
     "output_type": "display_data"
    },
    {
     "data": {
      "text/markdown": [
       "---"
      ],
      "text/plain": [
       "<IPython.core.display.Markdown object>"
      ]
     },
     "metadata": {},
     "output_type": "display_data"
    },
    {
     "data": {
      "text/markdown": [
       "### Year: 2007"
      ],
      "text/plain": [
       "<IPython.core.display.Markdown object>"
      ]
     },
     "metadata": {},
     "output_type": "display_data"
    },
    {
     "data": {
      "text/markdown": [
       "Number of articles: 3"
      ],
      "text/plain": [
       "<IPython.core.display.Markdown object>"
      ]
     },
     "metadata": {},
     "output_type": "display_data"
    },
    {
     "data": {
      "text/html": [
       "<div>\n",
       "<style scoped>\n",
       "    .dataframe tbody tr th:only-of-type {\n",
       "        vertical-align: middle;\n",
       "    }\n",
       "\n",
       "    .dataframe tbody tr th {\n",
       "        vertical-align: top;\n",
       "    }\n",
       "\n",
       "    .dataframe thead th {\n",
       "        text-align: right;\n",
       "    }\n",
       "</style>\n",
       "<table border=\"1\" class=\"dataframe\">\n",
       "  <thead>\n",
       "    <tr style=\"text-align: right;\">\n",
       "      <th></th>\n",
       "      <th>id</th>\n",
       "      <th>year</th>\n",
       "      <th>title</th>\n",
       "      <th>url</th>\n",
       "      <th>text</th>\n",
       "    </tr>\n",
       "  </thead>\n",
       "  <tbody>\n",
       "    <tr>\n",
       "      <th>699</th>\n",
       "      <td>723</td>\n",
       "      <td>2007</td>\n",
       "      <td>\"\"CBLL, Research Projects, Computational and B...</td>\n",
       "      <td>\"http://www.cs.nyu.edu/~yann/research/relreg\"</td>\n",
       "      <td>\"CBLL HOME VLG Group News/Events Seminars Peop...</td>\n",
       "    </tr>\n",
       "    <tr>\n",
       "      <th>1120</th>\n",
       "      <td>1153</td>\n",
       "      <td>2007</td>\n",
       "      <td>\"Discovering DNA: Friedrich Miescher and the e...</td>\n",
       "      <td>\"https://doi.org/10.1007%2Fs00439-007-0433-0\"</td>\n",
       "      <td>\"Advertisement Log in Menu Search Cart Home Hu...</td>\n",
       "    </tr>\n",
       "    <tr>\n",
       "      <th>1123</th>\n",
       "      <td>1157</td>\n",
       "      <td>2007</td>\n",
       "      <td>\"Identification and analysis of functional ele...</td>\n",
       "      <td>\"https://doi.org/10.1038%2Fnature05874\"</td>\n",
       "      <td>\"Thank you for visiting nature.com. You are us...</td>\n",
       "    </tr>\n",
       "  </tbody>\n",
       "</table>\n",
       "</div>"
      ],
      "text/plain": [
       "        id  year                                              title  \\\n",
       "699    723  2007  \"\"CBLL, Research Projects, Computational and B...   \n",
       "1120  1153  2007  \"Discovering DNA: Friedrich Miescher and the e...   \n",
       "1123  1157  2007  \"Identification and analysis of functional ele...   \n",
       "\n",
       "                                                url  \\\n",
       "699   \"http://www.cs.nyu.edu/~yann/research/relreg\"   \n",
       "1120  \"https://doi.org/10.1007%2Fs00439-007-0433-0\"   \n",
       "1123        \"https://doi.org/10.1038%2Fnature05874\"   \n",
       "\n",
       "                                                   text  \n",
       "699   \"CBLL HOME VLG Group News/Events Seminars Peop...  \n",
       "1120  \"Advertisement Log in Menu Search Cart Home Hu...  \n",
       "1123  \"Thank you for visiting nature.com. You are us...  "
      ]
     },
     "metadata": {},
     "output_type": "display_data"
    },
    {
     "data": {
      "text/markdown": [
       "---"
      ],
      "text/plain": [
       "<IPython.core.display.Markdown object>"
      ]
     },
     "metadata": {},
     "output_type": "display_data"
    },
    {
     "data": {
      "text/markdown": [
       "### Year: 2006"
      ],
      "text/plain": [
       "<IPython.core.display.Markdown object>"
      ]
     },
     "metadata": {},
     "output_type": "display_data"
    },
    {
     "data": {
      "text/markdown": [
       "Number of articles: 4"
      ],
      "text/plain": [
       "<IPython.core.display.Markdown object>"
      ]
     },
     "metadata": {},
     "output_type": "display_data"
    },
    {
     "data": {
      "text/html": [
       "<div>\n",
       "<style scoped>\n",
       "    .dataframe tbody tr th:only-of-type {\n",
       "        vertical-align: middle;\n",
       "    }\n",
       "\n",
       "    .dataframe tbody tr th {\n",
       "        vertical-align: top;\n",
       "    }\n",
       "\n",
       "    .dataframe thead th {\n",
       "        text-align: right;\n",
       "    }\n",
       "</style>\n",
       "<table border=\"1\" class=\"dataframe\">\n",
       "  <thead>\n",
       "    <tr style=\"text-align: right;\">\n",
       "      <th></th>\n",
       "      <th>id</th>\n",
       "      <th>year</th>\n",
       "      <th>title</th>\n",
       "      <th>url</th>\n",
       "      <th>text</th>\n",
       "    </tr>\n",
       "  </thead>\n",
       "  <tbody>\n",
       "    <tr>\n",
       "      <th>697</th>\n",
       "      <td>720</td>\n",
       "      <td>2006</td>\n",
       "      <td>\"\"CBLL, Research Projects, Computational and B...</td>\n",
       "      <td>\"http://www.cs.nyu.edu/~yann/research\"</td>\n",
       "      <td>\"CBLL HOME VLG Group News/Events Seminars Peop...</td>\n",
       "    </tr>\n",
       "    <tr>\n",
       "      <th>897</th>\n",
       "      <td>928</td>\n",
       "      <td>2006</td>\n",
       "      <td>\"Project MUSE - The History of Ideas: Precept ...</td>\n",
       "      <td>\"https://doi.org/10.1353%2Fjhi.2006.0006\"</td>\n",
       "      <td>\"Access provided by Dartmouth College Library ...</td>\n",
       "    </tr>\n",
       "    <tr>\n",
       "      <th>1124</th>\n",
       "      <td>1158</td>\n",
       "      <td>2006</td>\n",
       "      <td>\"An integrated view of protein evolution | Nat...</td>\n",
       "      <td>\"https://doi.org/10.1038%2Fnrg1838\"</td>\n",
       "      <td>\"Thank you for visiting nature.com. You are us...</td>\n",
       "    </tr>\n",
       "  </tbody>\n",
       "</table>\n",
       "</div>"
      ],
      "text/plain": [
       "        id  year                                              title  \\\n",
       "697    720  2006  \"\"CBLL, Research Projects, Computational and B...   \n",
       "897    928  2006  \"Project MUSE - The History of Ideas: Precept ...   \n",
       "1124  1158  2006  \"An integrated view of protein evolution | Nat...   \n",
       "\n",
       "                                            url  \\\n",
       "697      \"http://www.cs.nyu.edu/~yann/research\"   \n",
       "897   \"https://doi.org/10.1353%2Fjhi.2006.0006\"   \n",
       "1124        \"https://doi.org/10.1038%2Fnrg1838\"   \n",
       "\n",
       "                                                   text  \n",
       "697   \"CBLL HOME VLG Group News/Events Seminars Peop...  \n",
       "897   \"Access provided by Dartmouth College Library ...  \n",
       "1124  \"Thank you for visiting nature.com. You are us...  "
      ]
     },
     "metadata": {},
     "output_type": "display_data"
    },
    {
     "data": {
      "text/markdown": [
       "---"
      ],
      "text/plain": [
       "<IPython.core.display.Markdown object>"
      ]
     },
     "metadata": {},
     "output_type": "display_data"
    },
    {
     "data": {
      "text/markdown": [
       "### Year: 2005"
      ],
      "text/plain": [
       "<IPython.core.display.Markdown object>"
      ]
     },
     "metadata": {},
     "output_type": "display_data"
    },
    {
     "data": {
      "text/markdown": [
       "Number of articles: 6"
      ],
      "text/plain": [
       "<IPython.core.display.Markdown object>"
      ]
     },
     "metadata": {},
     "output_type": "display_data"
    },
    {
     "data": {
      "text/html": [
       "<div>\n",
       "<style scoped>\n",
       "    .dataframe tbody tr th:only-of-type {\n",
       "        vertical-align: middle;\n",
       "    }\n",
       "\n",
       "    .dataframe tbody tr th {\n",
       "        vertical-align: top;\n",
       "    }\n",
       "\n",
       "    .dataframe thead th {\n",
       "        text-align: right;\n",
       "    }\n",
       "</style>\n",
       "<table border=\"1\" class=\"dataframe\">\n",
       "  <thead>\n",
       "    <tr style=\"text-align: right;\">\n",
       "      <th></th>\n",
       "      <th>id</th>\n",
       "      <th>year</th>\n",
       "      <th>title</th>\n",
       "      <th>url</th>\n",
       "      <th>text</th>\n",
       "    </tr>\n",
       "  </thead>\n",
       "  <tbody>\n",
       "    <tr>\n",
       "      <th>902</th>\n",
       "      <td>934</td>\n",
       "      <td>2005</td>\n",
       "      <td>\"自然語言處理 - 维基百科，自由的百科全书\"</td>\n",
       "      <td>\"https://zh.wikipedia.org/wiki/%E8%87%AA%E7%84...</td>\n",
       "      <td>\"主菜单 首页 分类索引 特色内容 新闻动态 最近更改 随机条目 资助维基百科 帮助 维基社...</td>\n",
       "    </tr>\n",
       "    <tr>\n",
       "      <th>903</th>\n",
       "      <td>935</td>\n",
       "      <td>2005</td>\n",
       "      <td>\"ISOTOPES IN MARINE SEDIMENTS | SpringerLink\"</td>\n",
       "      <td>\"https://doi.org/10.1007%2F1-4020-2504-1_06\"</td>\n",
       "      <td>\"Advertisement Log in Menu Search Cart Isotope...</td>\n",
       "    </tr>\n",
       "    <tr>\n",
       "      <th>2014</th>\n",
       "      <td>2069</td>\n",
       "      <td>2005</td>\n",
       "      <td>\"How Quantum Computers Can Be Used to Build Be...</td>\n",
       "      <td>\"https://blubrry.com/singularityhub/81633365/h...</td>\n",
       "      <td>\"Podcast Hosting Hosting Plans Easy-to-use too...</td>\n",
       "    </tr>\n",
       "  </tbody>\n",
       "</table>\n",
       "</div>"
      ],
      "text/plain": [
       "        id  year                                              title  \\\n",
       "902    934  2005                            \"自然語言處理 - 维基百科，自由的百科全书\"   \n",
       "903    935  2005      \"ISOTOPES IN MARINE SEDIMENTS | SpringerLink\"   \n",
       "2014  2069  2005  \"How Quantum Computers Can Be Used to Build Be...   \n",
       "\n",
       "                                                    url  \\\n",
       "902   \"https://zh.wikipedia.org/wiki/%E8%87%AA%E7%84...   \n",
       "903        \"https://doi.org/10.1007%2F1-4020-2504-1_06\"   \n",
       "2014  \"https://blubrry.com/singularityhub/81633365/h...   \n",
       "\n",
       "                                                   text  \n",
       "902   \"主菜单 首页 分类索引 特色内容 新闻动态 最近更改 随机条目 资助维基百科 帮助 维基社...  \n",
       "903   \"Advertisement Log in Menu Search Cart Isotope...  \n",
       "2014  \"Podcast Hosting Hosting Plans Easy-to-use too...  "
      ]
     },
     "metadata": {},
     "output_type": "display_data"
    },
    {
     "data": {
      "text/markdown": [
       "---"
      ],
      "text/plain": [
       "<IPython.core.display.Markdown object>"
      ]
     },
     "metadata": {},
     "output_type": "display_data"
    },
    {
     "data": {
      "text/markdown": [
       "### Year: 2004"
      ],
      "text/plain": [
       "<IPython.core.display.Markdown object>"
      ]
     },
     "metadata": {},
     "output_type": "display_data"
    },
    {
     "data": {
      "text/markdown": [
       "Number of articles: 1"
      ],
      "text/plain": [
       "<IPython.core.display.Markdown object>"
      ]
     },
     "metadata": {},
     "output_type": "display_data"
    },
    {
     "data": {
      "text/html": [
       "<div>\n",
       "<style scoped>\n",
       "    .dataframe tbody tr th:only-of-type {\n",
       "        vertical-align: middle;\n",
       "    }\n",
       "\n",
       "    .dataframe tbody tr th {\n",
       "        vertical-align: top;\n",
       "    }\n",
       "\n",
       "    .dataframe thead th {\n",
       "        text-align: right;\n",
       "    }\n",
       "</style>\n",
       "<table border=\"1\" class=\"dataframe\">\n",
       "  <thead>\n",
       "    <tr style=\"text-align: right;\">\n",
       "      <th></th>\n",
       "      <th>id</th>\n",
       "      <th>year</th>\n",
       "      <th>title</th>\n",
       "      <th>url</th>\n",
       "      <th>text</th>\n",
       "    </tr>\n",
       "  </thead>\n",
       "  <tbody>\n",
       "    <tr>\n",
       "      <th>2298</th>\n",
       "      <td>2362</td>\n",
       "      <td>2004</td>\n",
       "      <td>\"Halo 2 | Halo Alpha | Fandom\"</td>\n",
       "      <td>\"https://halo.fandom.com/wiki/Halo_2\"</td>\n",
       "      <td>\"Explore Main Page Discuss All Pages Community...</td>\n",
       "    </tr>\n",
       "  </tbody>\n",
       "</table>\n",
       "</div>"
      ],
      "text/plain": [
       "        id  year                           title  \\\n",
       "2298  2362  2004  \"Halo 2 | Halo Alpha | Fandom\"   \n",
       "\n",
       "                                        url  \\\n",
       "2298  \"https://halo.fandom.com/wiki/Halo_2\"   \n",
       "\n",
       "                                                   text  \n",
       "2298  \"Explore Main Page Discuss All Pages Community...  "
      ]
     },
     "metadata": {},
     "output_type": "display_data"
    },
    {
     "data": {
      "text/markdown": [
       "---"
      ],
      "text/plain": [
       "<IPython.core.display.Markdown object>"
      ]
     },
     "metadata": {},
     "output_type": "display_data"
    },
    {
     "data": {
      "text/markdown": [
       "### Year: 2003"
      ],
      "text/plain": [
       "<IPython.core.display.Markdown object>"
      ]
     },
     "metadata": {},
     "output_type": "display_data"
    },
    {
     "data": {
      "text/markdown": [
       "Number of articles: 1"
      ],
      "text/plain": [
       "<IPython.core.display.Markdown object>"
      ]
     },
     "metadata": {},
     "output_type": "display_data"
    },
    {
     "data": {
      "text/html": [
       "<div>\n",
       "<style scoped>\n",
       "    .dataframe tbody tr th:only-of-type {\n",
       "        vertical-align: middle;\n",
       "    }\n",
       "\n",
       "    .dataframe tbody tr th {\n",
       "        vertical-align: top;\n",
       "    }\n",
       "\n",
       "    .dataframe thead th {\n",
       "        text-align: right;\n",
       "    }\n",
       "</style>\n",
       "<table border=\"1\" class=\"dataframe\">\n",
       "  <thead>\n",
       "    <tr style=\"text-align: right;\">\n",
       "      <th></th>\n",
       "      <th>id</th>\n",
       "      <th>year</th>\n",
       "      <th>title</th>\n",
       "      <th>url</th>\n",
       "      <th>text</th>\n",
       "    </tr>\n",
       "  </thead>\n",
       "  <tbody>\n",
       "    <tr>\n",
       "      <th>2266</th>\n",
       "      <td>2326</td>\n",
       "      <td>2003</td>\n",
       "      <td>\"Introduction to the Old English poem called B...</td>\n",
       "      <td>\"https://www.heorot.dk/beowulf-vorwort\"</td>\n",
       "      <td>\"An Introduction to the Structure &amp; Making of ...</td>\n",
       "    </tr>\n",
       "  </tbody>\n",
       "</table>\n",
       "</div>"
      ],
      "text/plain": [
       "        id  year                                              title  \\\n",
       "2266  2326  2003  \"Introduction to the Old English poem called B...   \n",
       "\n",
       "                                          url  \\\n",
       "2266  \"https://www.heorot.dk/beowulf-vorwort\"   \n",
       "\n",
       "                                                   text  \n",
       "2266  \"An Introduction to the Structure & Making of ...  "
      ]
     },
     "metadata": {},
     "output_type": "display_data"
    },
    {
     "data": {
      "text/markdown": [
       "---"
      ],
      "text/plain": [
       "<IPython.core.display.Markdown object>"
      ]
     },
     "metadata": {},
     "output_type": "display_data"
    },
    {
     "data": {
      "text/markdown": [
       "### Year: 2001"
      ],
      "text/plain": [
       "<IPython.core.display.Markdown object>"
      ]
     },
     "metadata": {},
     "output_type": "display_data"
    },
    {
     "data": {
      "text/markdown": [
       "Number of articles: 3"
      ],
      "text/plain": [
       "<IPython.core.display.Markdown object>"
      ]
     },
     "metadata": {},
     "output_type": "display_data"
    },
    {
     "data": {
      "text/html": [
       "<div>\n",
       "<style scoped>\n",
       "    .dataframe tbody tr th:only-of-type {\n",
       "        vertical-align: middle;\n",
       "    }\n",
       "\n",
       "    .dataframe tbody tr th {\n",
       "        vertical-align: top;\n",
       "    }\n",
       "\n",
       "    .dataframe thead th {\n",
       "        text-align: right;\n",
       "    }\n",
       "</style>\n",
       "<table border=\"1\" class=\"dataframe\">\n",
       "  <thead>\n",
       "    <tr style=\"text-align: right;\">\n",
       "      <th></th>\n",
       "      <th>id</th>\n",
       "      <th>year</th>\n",
       "      <th>title</th>\n",
       "      <th>url</th>\n",
       "      <th>text</th>\n",
       "    </tr>\n",
       "  </thead>\n",
       "  <tbody>\n",
       "    <tr>\n",
       "      <th>1122</th>\n",
       "      <td>1155</td>\n",
       "      <td>2001</td>\n",
       "      <td>\"Chromosome territories, nuclear architecture ...</td>\n",
       "      <td>\"https://doi.org/10.1038%2F35066075\"</td>\n",
       "      <td>\"Thank you for visiting nature.com. You are us...</td>\n",
       "    </tr>\n",
       "    <tr>\n",
       "      <th>1142</th>\n",
       "      <td>1183</td>\n",
       "      <td>2001</td>\n",
       "      <td>\"Department Of Computer Science | Makerere Uni...</td>\n",
       "      <td>\"https://cs.mak.ac.ug/curriculum\"</td>\n",
       "      <td>\"Makerere University Department of Computer Sc...</td>\n",
       "    </tr>\n",
       "    <tr>\n",
       "      <th>1143</th>\n",
       "      <td>1184</td>\n",
       "      <td>2001</td>\n",
       "      <td>\"Department Of Computer Science | Makerere Uni...</td>\n",
       "      <td>\"https://cs.mak.ac.ug/curriculum/undergraduate...</td>\n",
       "      <td>\"Makerere University Department of Computer Sc...</td>\n",
       "    </tr>\n",
       "  </tbody>\n",
       "</table>\n",
       "</div>"
      ],
      "text/plain": [
       "        id  year                                              title  \\\n",
       "1122  1155  2001  \"Chromosome territories, nuclear architecture ...   \n",
       "1142  1183  2001  \"Department Of Computer Science | Makerere Uni...   \n",
       "1143  1184  2001  \"Department Of Computer Science | Makerere Uni...   \n",
       "\n",
       "                                                    url  \\\n",
       "1122               \"https://doi.org/10.1038%2F35066075\"   \n",
       "1142                  \"https://cs.mak.ac.ug/curriculum\"   \n",
       "1143  \"https://cs.mak.ac.ug/curriculum/undergraduate...   \n",
       "\n",
       "                                                   text  \n",
       "1122  \"Thank you for visiting nature.com. You are us...  \n",
       "1142  \"Makerere University Department of Computer Sc...  \n",
       "1143  \"Makerere University Department of Computer Sc...  "
      ]
     },
     "metadata": {},
     "output_type": "display_data"
    },
    {
     "data": {
      "text/markdown": [
       "---"
      ],
      "text/plain": [
       "<IPython.core.display.Markdown object>"
      ]
     },
     "metadata": {},
     "output_type": "display_data"
    }
   ],
   "source": [
    "# %pip install datasets\n",
    "import datasets\n",
    "\n",
    "# %pip install Ipython\n",
    "from IPython.display import display, Markdown\n",
    "\n",
    "# for more details see https://huggingface.co/datasets/siavava/ai-tech-articles\n",
    "dataset = datasets.load_dataset(\"siavava/ai-tech-articles\")\n",
    "df = dataset[\"train\"].to_pandas()  # there's only the 'train' split because HF requires it.\n",
    "display(df.head(5))\n",
    "\n",
    "# split df by year, if you want to\n",
    "years = df[\"year\"].unique()\n",
    "dfs = {}\n",
    "for year in years:\n",
    "    dfs[year] = df[df[\"year\"] == year]\n",
    "    \n",
    "for year in sorted(years, reverse=True):\n",
    "    display(Markdown(f\"### Year: {year}\"))\n",
    "    display(Markdown(f\"Number of articles: {len(dfs[year])}\"))\n",
    "    display(dfs[year].head(3))\n",
    "    display(Markdown(\"---\"))\n",
    "    \n"
   ]
  }
 ],
 "metadata": {
  "kernelspec": {
   "display_name": "Python 3",
   "language": "python",
   "name": "python3"
  },
  "language_info": {
   "codemirror_mode": {
    "name": "ipython",
    "version": 3
   },
   "file_extension": ".py",
   "mimetype": "text/x-python",
   "name": "python",
   "nbconvert_exporter": "python",
   "pygments_lexer": "ipython3",
   "version": "3.11.5"
  }
 },
 "nbformat": 4,
 "nbformat_minor": 2
}
